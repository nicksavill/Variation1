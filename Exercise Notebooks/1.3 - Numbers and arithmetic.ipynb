{
 "cells": [
  {
   "cell_type": "markdown",
   "metadata": {},
   "source": [
    "Some exercises give you the expected output of your code in blue boxes. These are there to help you write the correct code."
   ]
  },
  {
   "cell_type": "markdown",
   "metadata": {
    "solution2": "hidden",
    "solution2_first": true
   },
   "source": [
    "### Exercise 1.3.1\n",
    "\n",
    "The following code has an error. Correct the code to make it work.\n",
    "\n",
    "```python\n",
    "print( (20 + 5 / 4 )\n",
    "```"
   ]
  },
  {
   "cell_type": "markdown",
   "metadata": {
    "solution2": "hidden"
   },
   "source": [
    "> There is a missing closing parenthesis after 5:\n",
    "```python\n",
    "print( (20 + 5) / 4 )\n",
    "```"
   ]
  },
  {
   "cell_type": "code",
   "execution_count": null,
   "metadata": {},
   "outputs": [],
   "source": [
    "print( (20 + 5 / 4 )"
   ]
  },
  {
   "cell_type": "markdown",
   "metadata": {
    "solution2": "hidden",
    "solution2_first": true
   },
   "source": [
    "### Exercise 1.3.2\n",
    "\n",
    "The following code has an error. Correct the code to make it work.\n",
    "\n",
    "```python\n",
    "print( 10(5 + 3) )\n",
    "```"
   ]
  },
  {
   "cell_type": "markdown",
   "metadata": {
    "solution2": "hidden"
   },
   "source": [
    "> In mathematical notation `10(5 + 3)` means 10 times 8; multiplication is implied by the parentheses. In Python the multiplication must be explicitly included:\n",
    "```python\n",
    "print( 10*(5 + 3) )\n",
    "```"
   ]
  },
  {
   "cell_type": "code",
   "execution_count": null,
   "metadata": {},
   "outputs": [],
   "source": [
    "print( 10(5 + 3) )"
   ]
  },
  {
   "cell_type": "markdown",
   "metadata": {
    "solution2": "hidden",
    "solution2_first": true
   },
   "source": [
    "### Exercise 1.3.3\n",
    "\n",
    "The following code has an error. Correct the code to make it work.\n",
    "\n",
    "\n",
    "```python\n",
    "print( round(1/7, 3.2) )\n",
    "```"
   ]
  },
  {
   "cell_type": "markdown",
   "metadata": {
    "solution2": "hidden"
   },
   "source": [
    "> The number of decimal places to round to should be an integer (i.e., 3) rather than a float (i.e., 3.2):\n",
    "\n",
    "```python\n",
    "print( round(1/7, 3) )\n",
    "```"
   ]
  },
  {
   "cell_type": "code",
   "execution_count": null,
   "metadata": {},
   "outputs": [],
   "source": [
    "print( round(1/7, 3.2) )"
   ]
  },
  {
   "cell_type": "markdown",
   "metadata": {
    "solution2": "hidden",
    "solution2_first": true
   },
   "source": [
    "### Exercise 1.3.4\n",
    "\n",
    "The following code has an error. Correct the code to make it work.\n",
    "\n",
    "```python\n",
    "print( 5.6e -6 )\n",
    "```"
   ]
  },
  {
   "cell_type": "markdown",
   "metadata": {
    "solution2": "hidden"
   },
   "source": [
    "> There should be no spaces before or after \"e\":\n",
    "\n",
    "```python\n",
    "print( 5.6e-6 )\n",
    "```"
   ]
  },
  {
   "cell_type": "code",
   "execution_count": null,
   "metadata": {},
   "outputs": [],
   "source": [
    "print( 5.6e -6 )"
   ]
  },
  {
   "cell_type": "markdown",
   "metadata": {
    "solution2": "hidden",
    "solution2_first": true
   },
   "source": [
    "### Exercise 1.3.5\n",
    "\n",
    "The following code has an error. Correct the code to make it work.\n",
    "\n",
    "```python\n",
    "print( 10,010 )\n",
    "```"
   ]
  },
  {
   "cell_type": "markdown",
   "metadata": {
    "solution2": "hidden"
   },
   "source": [
    "> Thousands separaters, such as the comma, are not permitted in Python numbers.\n",
    "\n",
    "```python\n",
    "print( 10010 )\n",
    "```"
   ]
  },
  {
   "cell_type": "code",
   "execution_count": null,
   "metadata": {},
   "outputs": [],
   "source": [
    "print( 10,010 )"
   ]
  },
  {
   "cell_type": "markdown",
   "metadata": {
    "solution2": "hidden",
    "solution2_first": true
   },
   "source": [
    "### Exercise 1.3.6\n",
    "\n",
    "In your head, or on paper, work out the following arithmetic as you would expect Python to do it using the rules of precedence.\n",
    "\n",
    "* 5 * 5 - 5 = ?\n",
    "* 10 - 2 * 3 = ?\n",
    "* 20 + 5 * 2 - 10 = ?\n",
    "* 4 + 4 / 2 = ?\n",
    "* 2 * 5 ** 2 = ?\n",
    "* 9 / 3 ** 2 = ? \n",
    "\n",
    "Check your answers by revealing the solution."
   ]
  },
  {
   "cell_type": "code",
   "execution_count": null,
   "metadata": {
    "solution2": "hidden"
   },
   "outputs": [],
   "source": [
    "# Run this code to check if your answers are correct\n",
    "print(5 * 5 - 5)\n",
    "print(10 - 2 * 3)\n",
    "print(20 + 5 * 2)\n",
    "print(4 + 4 / 2)\n",
    "print(2 * 5 ** 2)\n",
    "print(9 / 3 ** 2)"
   ]
  },
  {
   "cell_type": "markdown",
   "metadata": {
    "solution2": "hidden",
    "solution2_first": true
   },
   "source": [
    "### Exercise 1.3.7\n",
    "\n",
    "What are the types of each of the following numbers?\n",
    "* -6\n",
    "* 10.3\n",
    "* 99.0\n",
    "* -1.0\n",
    "\n",
    "Check your answers by revealing the solution."
   ]
  },
  {
   "cell_type": "code",
   "execution_count": null,
   "metadata": {
    "solution2": "hidden"
   },
   "outputs": [],
   "source": [
    "# Run this code to check if your answers are correct\n",
    "print( type(-6) )\n",
    "print( type(10.3) )\n",
    "print( type(99.0) )\n",
    "print( type(-1.0) )"
   ]
  },
  {
   "cell_type": "markdown",
   "metadata": {
    "solution2": "hidden",
    "solution2_first": true
   },
   "source": [
    "### Exercise 1.3.8\n",
    "\n",
    "1. What **type** of number do you get if you do `4 / 2`?\n",
    "2. What **type** of number do you get if you do `4 // 2`?\n",
    "\n",
    "Check your answers by revealing the solution."
   ]
  },
  {
   "cell_type": "code",
   "execution_count": null,
   "metadata": {
    "solution2": "hidden"
   },
   "outputs": [],
   "source": [
    "# Run this code to check if your answers are correct\n",
    "print( type(4/2) )\n",
    "print( type(4//2) )"
   ]
  },
  {
   "cell_type": "markdown",
   "metadata": {
    "solution2": "hidden",
    "solution2_first": true
   },
   "source": [
    "### Exercise 1.3.9\n",
    "\n",
    "Using the `round()` function in the code cell below, print the following floats to the given number of decimal places.\n",
    "\n",
    "* 34.2694 to 2dp\n",
    "* -1.4 to 0dp\n",
    "* 1024.234 to 1dp"
   ]
  },
  {
   "cell_type": "code",
   "execution_count": null,
   "metadata": {
    "solution2": "hidden"
   },
   "outputs": [],
   "source": [
    "print( round(34.2694, 2) )\n",
    "print( round(-1.4, 0))\n",
    "print( round(1024.234, 1) )"
   ]
  },
  {
   "cell_type": "code",
   "execution_count": null,
   "metadata": {},
   "outputs": [],
   "source": []
  },
  {
   "cell_type": "markdown",
   "metadata": {
    "solution2": "hidden",
    "solution2_first": true
   },
   "source": [
    "### Exercise 1.3.10\n",
    "\n",
    "In the following code cell use Python to calculate the circumference and area of a circle of radius 5.4 cm and print the answers rounded to 1 decimal place?\n",
    "\n",
    "*If you've forgotten what the circumference and area of a circle are use google.*\n",
    "\n",
    "<div class=\"alert alert-info\">\n",
    "Your answers should be\n",
    "    \n",
    "- circumference = 33.9 cm\n",
    "- area = 91.6 cm<sup>2</sup>\n",
    "</div>"
   ]
  },
  {
   "cell_type": "code",
   "execution_count": null,
   "metadata": {
    "solution2": "hidden"
   },
   "outputs": [],
   "source": [
    "# Circumference is 2 * pi * radius\n",
    "print( round(2 * 3.142 * 5.4, 1) )\n",
    "\n",
    "# Area is pi * radius**2\n",
    "print( round(3.142 * 5.4**2, 1) )"
   ]
  },
  {
   "cell_type": "code",
   "execution_count": null,
   "metadata": {},
   "outputs": [],
   "source": []
  },
  {
   "cell_type": "markdown",
   "metadata": {
    "solution2": "hidden",
    "solution2_first": true
   },
   "source": [
    "### Exercise 1.3.11\n",
    "\n",
    "Use Python to calculate the average of the following set of numbers to 2dp: \n",
    "```python\n",
    "11, 11, 13.5, 7.5, 13.5, 22.5\n",
    "```\n",
    "\n",
    "<div class=\"alert alert-info\">\n",
    "Your answer should be 13.17\n",
    "</div>"
   ]
  },
  {
   "cell_type": "code",
   "execution_count": null,
   "metadata": {
    "solution2": "hidden"
   },
   "outputs": [],
   "source": [
    "print( round( (11 + 11 + 13.5 + 7.5 + 13.5 + 22.5)/6, 2 ) )"
   ]
  },
  {
   "cell_type": "code",
   "execution_count": null,
   "metadata": {},
   "outputs": [],
   "source": []
  },
  {
   "cell_type": "markdown",
   "metadata": {
    "solution2": "hidden",
    "solution2_first": true
   },
   "source": [
    "### Exercise 1.3.12\n",
    "\n",
    "Avogadro's constant, *N<sub>A</sub>*, is the number of particles (e.g, molecules, atoms, ions) in 1 mole of a substance. It's value is approximately 6.022 x 10<sup> 23</sup> mol<sup> -1</sup>.\n",
    "\n",
    "In the code cell below, write Avogadro's constant in e-notation."
   ]
  },
  {
   "cell_type": "code",
   "execution_count": null,
   "metadata": {
    "solution2": "hidden"
   },
   "outputs": [],
   "source": [
    "6.022e23"
   ]
  },
  {
   "cell_type": "code",
   "execution_count": null,
   "metadata": {},
   "outputs": [],
   "source": []
  },
  {
   "cell_type": "markdown",
   "metadata": {
    "solution2": "hidden",
    "solution2_first": true
   },
   "source": [
    "### Exercise 1.3.13\n",
    "\n",
    "The mass of the electron is approximately 9.11 x 10<sup> $-$31</sup> kg\n",
    "\n",
    "In the code cell below, write the electron's mass in e-notation."
   ]
  },
  {
   "cell_type": "code",
   "execution_count": null,
   "metadata": {
    "solution2": "hidden"
   },
   "outputs": [],
   "source": [
    "9.11e-31"
   ]
  },
  {
   "cell_type": "code",
   "execution_count": null,
   "metadata": {},
   "outputs": [],
   "source": []
  },
  {
   "cell_type": "markdown",
   "metadata": {},
   "source": [
    "## Next Notebook"
   ]
  },
  {
   "cell_type": "markdown",
   "metadata": {},
   "source": [
    "[Numerical variables](../Self-study%20Notebooks/1.4%20-%20Numerical%20variables.ipynb)"
   ]
  }
 ],
 "metadata": {
  "kernelspec": {
   "display_name": "Python 3",
   "language": "python",
   "name": "python3"
  },
  "language_info": {
   "codemirror_mode": {
    "name": "ipython",
    "version": 3
   },
   "file_extension": ".py",
   "mimetype": "text/x-python",
   "name": "python",
   "nbconvert_exporter": "python",
   "pygments_lexer": "ipython3",
   "version": "3.7.6"
  },
  "varInspector": {
   "cols": {
    "lenName": 16,
    "lenType": 16,
    "lenVar": 40
   },
   "kernels_config": {
    "python": {
     "delete_cmd_postfix": "",
     "delete_cmd_prefix": "del ",
     "library": "var_list.py",
     "varRefreshCmd": "print(var_dic_list())"
    },
    "r": {
     "delete_cmd_postfix": ") ",
     "delete_cmd_prefix": "rm(",
     "library": "var_list.r",
     "varRefreshCmd": "cat(var_dic_list()) "
    }
   },
   "types_to_exclude": [
    "module",
    "function",
    "builtin_function_or_method",
    "instance",
    "_Feature"
   ],
   "window_display": false
  }
 },
 "nbformat": 4,
 "nbformat_minor": 4
}
