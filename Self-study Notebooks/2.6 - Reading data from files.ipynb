{
 "cells": [
  {
   "cell_type": "markdown",
   "metadata": {},
   "source": [
    "# Reading data from a file into a DataFrame"
   ]
  },
  {
   "cell_type": "markdown",
   "metadata": {},
   "source": [
    "<div class=\"alert alert-warning\">\n",
    "\n",
    "**In this Notebook you will learn how to read datasets stored in files into a DataFrame for analysis.**\n",
    "    \n",
    "</div>"
   ]
  },
  {
   "cell_type": "markdown",
   "metadata": {},
   "source": [
    "In the last few Notebooks we have used lists of numbers or strings to store data. For example we had a list of blood groups stored in the variable called `blood_groups`:\n",
    "\n",
    "```python\n",
    "blood_groups = ['A+', 'O+', 'A+', 'O+', 'A+', 'O-', 'A+', ... etc.]\n",
    "```\n",
    "\n",
    "This is not the normal way to store data though. Instead datasets are stored in files. A common file format for storing data is Microsoft excel. You open excel files using the Microsoft office program called excel. Once opened you can see your data, manipulate it and plot it in graphs.\n",
    "\n",
    "But that is only one of many ways in which your data can be saved in a file, opened, analysed and plotted. We will now look at an alternative way using Python. \n",
    "\n",
    "Which method you chose to analyse your data is up to you. You may prefer the excel way of doing things, or you may prefer the Python way of doing things. They both have their pros and cons, and for basic data analysis and plotting it doesn't really matter which one you use."
   ]
  },
  {
   "cell_type": "markdown",
   "metadata": {},
   "source": [
    "## CSV data files"
   ]
  },
  {
   "cell_type": "markdown",
   "metadata": {},
   "source": [
    "\n",
    "As well as excel files, there are other types of files that can store your data. One of the most common is called \"comma-separated values\" or \"csv\" for short. You can tell if a file is a csv file because it will have the extension \".csv\" after it. Similarly an excel file will have the extension \".xlsx\".\n",
    "\n",
    "CSV files are called human-readable. This is because you can open them in any text editor and see their contents and edit them, for example, to correct mistakes or change the name of a variable. This is different from say excel files which are encoded in a non-human-readable format. Their contents cannot be viewed in a text editor.\n",
    "\n",
    "<div class=\"alert alert-info\">\n",
    "\n",
    "If you go to the \"Variation1/Self-study Notebooks\" tab in your browser (the one that contains all the self-study Notebooks) you'll see a folder called **Datasets**. Click on it and you'll see a lot of csv data files which you'll be using in this course. You can click on any of them and a new tab will open with the contents of that file. Try it.\n",
    "    \n",
    "</div>\n",
    "\n",
    "There are several ways to open a csv file in Python. In this course we will use a module called **pandas**. \n",
    "\n",
    "We'll use a simple dataset of body masses of Alaskan sockeye salmon to demonstrate how to do this. \n",
    "</div>"
   ]
  },
  {
   "cell_type": "markdown",
   "metadata": {},
   "source": [
    "## Body mass of a sample of Alaskan sockeye salmon"
   ]
  },
  {
   "attachments": {},
   "cell_type": "markdown",
   "metadata": {},
   "source": [
    "<div>\n",
    "<img src=\"attachment:salmon.jpg\" width='70%' title=\"Bureau of Land Management CC BY 2.0\"/>\n",
    "    \n",
    "</div>\n",
    "\n",
    "In the file [Datasets/alaskan salmon.csv](Datasets/alaskan%20salmon.csv) are the body masses (in kg) of 228 female sockeye salmon sampled from Pick Creek in Alaska. \n",
    "\n",
    "The first few lines of `alaskan salmon.csv` look like this:\n",
    "```csv\n",
    "mass\n",
    "3.09\n",
    "2.91\n",
    "3.06\n",
    "2.69\n",
    "... and so on\n",
    "```\n",
    "\n",
    "The first line is called a **header**. This describes what has been measured. In this case it is `'mass'`. Each line thereafter contains the mass (in kg) of an individual salmon."
   ]
  },
  {
   "cell_type": "markdown",
   "metadata": {},
   "source": [
    "## Pandas: A data analysis module\n"
   ]
  },
  {
   "cell_type": "markdown",
   "metadata": {},
   "source": [
    "Pandas is widely used in data science. It provides lots of functions for reading in, analysing, manipulating and describing data. The official pandas website is [here](http://pandas.pydata.org). This website provides a lot more information on the use of this library than can be covered in these workshops. \n",
    "\n",
    "To use pandas we must include the following code once in each Notebook.\n",
    "\n",
    "```python\n",
    "import pandas as pd\n",
    "```\n",
    "\n",
    "This imports the pandas module and gives it the shorthand name `pd`."
   ]
  },
  {
   "cell_type": "markdown",
   "metadata": {},
   "source": [
    "## Reading in the dataset"
   ]
  },
  {
   "cell_type": "markdown",
   "metadata": {},
   "source": [
    "The first two things we have to do is\n",
    "1. read in the Alaskan salmon data from the csv file\n",
    "2. call the dataset something sensible.  \n",
    "\n",
    "We do this using the pandas function `read_csv()` like so:\n",
    "\n",
    "```python\n",
    "salmon_masses = pd.read_csv('Datasets/alaskan salmon.csv')\n",
    "```\n",
    "<div class=\"alert alert-info\">\n",
    "\n",
    "Run the following code cell to import pandas, read in `alaskan salmon.csv` and call the dataset `salmon_masses`.\n",
    "    \n",
    "There is no output, but the data will be read in and saved in memory.\n",
    "</div>"
   ]
  },
  {
   "cell_type": "code",
   "execution_count": null,
   "metadata": {},
   "outputs": [],
   "source": [
    "import pandas as pd\n",
    "\n",
    "salmon_masses = pd.read_csv('Datasets/alaskan salmon.csv')"
   ]
  },
  {
   "cell_type": "markdown",
   "metadata": {},
   "source": [
    "## File not found error"
   ]
  },
  {
   "cell_type": "markdown",
   "metadata": {},
   "source": [
    "If you type in the wrong name for a file then Python will complain with a \"File Not Found Error\" message. \n",
    "\n",
    "For example, if you forget to include the \"Datasets\" folder in the filename like so\n",
    "\n",
    "```python\n",
    "salmon_masses = pd.read_csv('alaskan salmon.csv')\n",
    "```\n",
    "Python will print the following error message followed by lots of other stuff:\n",
    "\n",
    "```python\n",
    "FileNotFoundError\n",
    "Input In [1], in <cell line: 1>()\n",
    "----> 1 salmon_masses = pd.read_csv('alaskan salmon.csv')\n",
    "```\n",
    "\n",
    "The arrow points to the line of code on which the error occurred.\n",
    "\n",
    "Unfortunately Python error messages can be long and verbose. The important thing to remember is that the main error, and the line on which it occurred, is at the top of the error message.\n",
    "\n",
    "<div class=\"alert alert-info\">\n",
    "\n",
    "Run the following code cell to see the error. \n",
    "</div>"
   ]
  },
  {
   "cell_type": "code",
   "execution_count": null,
   "metadata": {},
   "outputs": [],
   "source": [
    "salmon_masses = pd.read_csv('alaskan salmon.csv')"
   ]
  },
  {
   "cell_type": "markdown",
   "metadata": {},
   "source": [
    "<div class=\"alert alert-success\">\n",
    "\n",
    "If you want to clear the output of a code cell, for example to get rid of these long error messages, click on **Cell > Current Outputs > Clear** in the toolbar above.\n",
    "</div>"
   ]
  },
  {
   "cell_type": "markdown",
   "metadata": {},
   "source": [
    "## Printing the dataset"
   ]
  },
  {
   "cell_type": "markdown",
   "metadata": {},
   "source": [
    "Notice when you ran the above code to read in the dataset nothing appeared to happen. This is in contrast to excel; when we open an excel file the data are immediately displayed in an excel spreadsheet.\n",
    "\n",
    "When we use pandas to read in a dataset, the data are stored in memory, but they are not immediately displayed. To see the data we have to print it like so:\n",
    "\n",
    "```python\n",
    "print(salmon_masses)\n",
    "```\n",
    "\n",
    "<div class=\"alert alert-info\">\n",
    "\n",
    "Try this in the code cell below.\n",
    "</div>"
   ]
  },
  {
   "cell_type": "code",
   "execution_count": null,
   "metadata": {},
   "outputs": [],
   "source": [
    "print(salmon_masses)"
   ]
  },
  {
   "cell_type": "markdown",
   "metadata": {},
   "source": [
    "There are two columns. The first column is an index, or row number, for each salmon and can be ignored. The second column contains the masses in kilograms of all salmon.\n",
    "\n",
    "As this is a very long dataset, pandas has only printed the first and last five values; the middle values (from index 5 to index 222) have been omitted.\n",
    "\n",
    "Also notice that the number of rows and columns are printed at the bottom, in this case 228 rows and 1 columns (the index column is ignored)."
   ]
  },
  {
   "cell_type": "markdown",
   "metadata": {},
   "source": [
    "## Get the number of values in the dataset: The sample size"
   ]
  },
  {
   "cell_type": "markdown",
   "metadata": {},
   "source": [
    "The number of values in a dataset is also called the **sample size**. It is usually represented by lowercase *n*.\n",
    "\n",
    "We can use the `count()` method to get the number of values in a dataset:\n",
    "\n",
    "```python\n",
    "n = salmon_masses['mass'].count()\n",
    "```\n",
    "\n",
    "<div class=\"alert alert-info\">\n",
    "\n",
    "Try these in the following code cell.\n",
    "</div>"
   ]
  },
  {
   "cell_type": "code",
   "execution_count": null,
   "metadata": {},
   "outputs": [],
   "source": [
    "n = salmon_masses['mass'].count()\n",
    "\n",
    "print(n)"
   ]
  },
  {
   "cell_type": "markdown",
   "metadata": {},
   "source": [
    "## A pandas dataset is called a DataFrame"
   ]
  },
  {
   "cell_type": "markdown",
   "metadata": {},
   "source": [
    "Pandas (and other statistical software) calls a dataset a **DataFrame**. Excel calls a dataset a \"sheet\". The variable called `salmon_masses` has the type DataFrame. you can see this if you run the code\n",
    "\n",
    "```python\n",
    "print( type(salmon_masses) )\n",
    "```\n",
    "\n",
    "<div class=\"alert alert-info\">\n",
    "\n",
    "Try this in the following code cell.\n",
    "</div>"
   ]
  },
  {
   "cell_type": "code",
   "execution_count": null,
   "metadata": {},
   "outputs": [],
   "source": [
    "print( type(salmon_masses) )"
   ]
  },
  {
   "cell_type": "markdown",
   "metadata": {},
   "source": [
    "## Exercise Notebook"
   ]
  },
  {
   "cell_type": "markdown",
   "metadata": {},
   "source": [
    "[Reading data from files](../Exercise%20Notebooks/2.6%20-%20Reading%20data%20from%20files.ipynb)"
   ]
  }
 ],
 "metadata": {
  "interpreter": {
   "hash": "5b34568b434bb6e5bf895c3fbf2a1e101e1e281d0c9e435769d397db7902ae33"
  },
  "kernelspec": {
   "display_name": "Python 3 (ipykernel)",
   "language": "python",
   "name": "python3"
  },
  "language_info": {
   "codemirror_mode": {
    "name": "ipython",
    "version": 3
   },
   "file_extension": ".py",
   "mimetype": "text/x-python",
   "name": "python",
   "nbconvert_exporter": "python",
   "pygments_lexer": "ipython3",
   "version": "3.9.12"
  },
  "varInspector": {
   "cols": {
    "lenName": 16,
    "lenType": 16,
    "lenVar": 40
   },
   "kernels_config": {
    "python": {
     "delete_cmd_postfix": "",
     "delete_cmd_prefix": "del ",
     "library": "var_list.py",
     "varRefreshCmd": "print(var_dic_list())"
    },
    "r": {
     "delete_cmd_postfix": ") ",
     "delete_cmd_prefix": "rm(",
     "library": "var_list.r",
     "varRefreshCmd": "cat(var_dic_list()) "
    }
   },
   "types_to_exclude": [
    "module",
    "function",
    "builtin_function_or_method",
    "instance",
    "_Feature"
   ],
   "window_display": false
  }
 },
 "nbformat": 4,
 "nbformat_minor": 2
}
