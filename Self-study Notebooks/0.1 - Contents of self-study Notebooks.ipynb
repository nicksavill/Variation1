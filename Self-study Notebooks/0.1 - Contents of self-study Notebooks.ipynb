{
 "cells": [
  {
   "cell_type": "markdown",
   "metadata": {},
   "source": [
    "# Contents of Self-study notebooks"
   ]
  },
  {
   "cell_type": "markdown",
   "metadata": {},
   "source": [
    "## Self-study notebooks in preparation for Week 2 Practical: Coding 1 - Getting started with Python"
   ]
  },
  {
   "cell_type": "markdown",
   "metadata": {},
   "source": [
    "**Clicking on a notebook title opens that notebook**\n",
    "\n",
    "### [1.1 - Coding in Jupyter Notebooks](1.1%20-%20Coding%20in%20Jupyter%20Notebooks.ipynb)\n",
    "- Selecting a cell\n",
    "- Command mode and edit mode\n",
    "- Running a code cell runs the code and produces output\n",
    "- Running a markdown cell renders the text\n",
    "- The Jupyter kernel\n",
    "    - Restarting the kernel\n",
    "- How to save and close Jupyter Notebooks\n",
    "- Help with Jupyer Notebooks\n",
    "\n",
    "### [1.2 - Hello World](1.2%20-%20Hello%20World.ipynb)\n",
    "- Print \"Hello, World!\"\n",
    "- Making mistakes and Python errors\n",
    "- Comments\n",
    "- Using Google to help you code\n",
    "\n",
    "### [1.3 - Numbers and arithmetic](1.3%20-%20Numbers%20and%20arithmetic.ipynb)\n",
    "- Simple arithmetic\n",
    "    -  Aside: Jupyter Notebook output\n",
    "- Precedence: The order of calculations matter\n",
    "- Number types: integers and floats\n",
    "- Rounding numbers\n",
    "- Very large and very small numbers: Scientific E-notation\n",
    "\n",
    "### [1.4 - Numerical variables](1.4%20-%20Numerical%20variables.ipynb)\n",
    "- What are variables and why do we need them?\n",
    "- Properties of Python variables\n",
    "- Print the value and type of a variable\n",
    "- The value of a variable can change\n",
    "- Incrementing a variable's value\n",
    "- Variables can be used in arithmetic\n",
    "- What should I call my variable?\n",
    "- Variable naming guidelines\n",
    "    -  Reserved keywords in Python\n",
    "\n",
    "### [1.5 - Strings: working with text](1.5%20-%20Strings:%20working%20with%20text.ipynb)\n",
    "- Single and double quotes in a string\n",
    "- Length of a string\n",
    "- Newlines and tabs: Escape characters\n",
    "- String variables\n",
    "- Make your output meaningful with f-strings\n",
    "\n",
    "### [1.6 - Modules](1.6%20-%20Modules.ipynb)\n",
    "- Import specific functions"
   ]
  },
  {
   "cell_type": "markdown",
   "metadata": {},
   "source": [
    "## Self-study notebooks in preparation for Week 3 Practical: Coding 2 - Working with data"
   ]
  },
  {
   "cell_type": "markdown",
   "metadata": {},
   "source": [
    "### [2.1 - Lists](2.1%20-%20Lists.ipynb)\n",
    "- A list is a sequence of items\n",
    "- Length of a list\n",
    "- Accessing values in a list\n",
    "\n",
    "### [2.2 - Loops](2.2%20-%20Loops.ipynb)\n",
    "- Looping through a list of numbers\n",
    "- How to calculate an average by looping\n",
    "- Indentation matters: IndentationError\n",
    "- The iterating variable\n",
    "- Sum all the values in a list\n",
    "- Average value of items in a list\n",
    "\n",
    "### [2.3 - Making decisions](2.3%20-%20Making%20decisions.ipynb)\n",
    "- `if`\n",
    "- `if` ... `else`\n",
    "- `if` ... `elif` ... `else`\n",
    "- Double equals symbol, `==`\n",
    "- Table of comparison operators\n",
    "- Testing if a value is within a range\n",
    "- Testing if a value is outside a range\n",
    "- Testing strings\n",
    "\n",
    "### [2.4 - Variables and their types](2.4%20-%20Variables%20and%20their%20types.ipynb)\n",
    "- Variables\n",
    "- Types of variables\n",
    "    -  Categorical variables\n",
    "    -  Numerical variables\n",
    "- Data\n",
    "\n",
    "### [2.5 - Counting values](2.5%20-%20Counting%20values.ipynb)\n",
    "- Counting categorical data\n",
    "- Relative frequency and proportion\n",
    "- Counting numerical data\n",
    "\n",
    "### [2.6 - Reading data from files](2.6%20-%20Reading%20data%20from%20files.ipynb)\n",
    "- CSV data files\n",
    "- Pandas: A data analysis module\n",
    "- Reading in the dataset\n",
    "- File not found error\n",
    "- Printing the dataset\n",
    "- Get the number of values in the dataset: The sample size\n",
    "- A pandas dataset is called a DataFrame\n",
    "\n",
    "### [2.7 - Visualising data](2.7%20-%20Visualising%20data.ipynb)\n",
    "- Visualising numerical data in a histogram\n",
    "- Annotate graphs to help readers understand their content\n",
    "- Visualising categorical data in a bar plot\n",
    "- Frequency and relative frequency distributions\n",
    "- Saving graphs to file"
   ]
  },
  {
   "cell_type": "markdown",
   "metadata": {},
   "source": [
    "## Self-study notebooks in preparation for Week 4 Workshop: Analysis 1 - Estimating a population mean"
   ]
  },
  {
   "cell_type": "markdown",
   "metadata": {},
   "source": [
    "### [3.1 - Descriptive statistics: location](3.1%20-%20Descriptive%20statistics:%20location.ipynb)\n",
    "- Darwin's finches\n",
    "- Calculating means with pandas\n",
    "- Format your output with an f-string\n",
    "\n",
    "### [3.2 - Descriptive statistics: spread](3.2%20-%20Descriptive%20statistics:%20spread.ipynb)\n",
    "- Darwin's finches again\n",
    "- Range\n",
    "- Standard deviation\n",
    "\n",
    "### [3.3 - Sampling a population](3.3%20-%20Sampling%20a%20population.ipynb)\n",
    "- What is a population and what is a sample?\n",
    "- Population parameters and sample statistics\n",
    "- The sample size *n*\n",
    "\n",
    "### [3.4 - Normal distribution](3.4%20-%20Normal%20distribution.ipynb)\n",
    "- US female college student heights\n",
    "- Read and plot the data in a histogram\n",
    "- Find the sample size, mean and standard deviation\n",
    "- What does the standard deviation represent? The 68-95-99.7% rule\n",
    "- Estimating a standard deviation by eye\n",
    "- The ideal Normal distribution\n",
    "\n",
    "### [3.5 - Estimating a population mean](3.5%20-%20Estimating%20a%20population%20mean.ipynb)\n",
    "- Beak depths of the medium ground finch of the Galápagos islands\n",
    "- Point estimate of the population mean\n",
    "- Sampling distribution of the mean\n",
    "- Interval estimate of the population mean: A 95% confidence interval\n",
    "- Reporting the 95% confidence interval of the population mean"
   ]
  },
  {
   "cell_type": "markdown",
   "metadata": {},
   "source": [
    "## Self-study notebooks in preparation for Week 5 Workshop: Analysis 2 - Null hypothesis significance testing"
   ]
  },
  {
   "cell_type": "markdown",
   "metadata": {},
   "source": [
    "### [4.1 - Tails of a distribution](4.1%20-%20Tails%20of%20a%20distribution.ipynb)\n",
    "- The tails of the Normal distribution\n",
    "- Tail area probability\n",
    "\n",
    "### [4.2 - Comparing two population means](4.2%20-%20Comparing%20two%20population%20means.ipynb)\n",
    "- The evolution of medium ground finch beak depths on the Galápagos islands\n",
    "- The research hypothesis\n",
    "- The statistical hypotheses\n",
    "- Sample means and standard deviations\n",
    "- The test statistic\n",
    "- Assume the null hypothesis were true\n",
    "- Create a statistical model of the sampling process assuming the null hypothesis were true\n",
    "- Create a sampling distribution of the *d*-statistic\n",
    "- Simulate a sample of beak depths from the 1976 finch population\n",
    "- Simulate several random samples from the 1976 finch population\n",
    "- The means, $\\bar{x}$s, of the simulated samples\n",
    "- Simulate a pair of samples from the 1976 and 1978 finch populations and calculate the *d*-statistic\n",
    "- Simulate several pairs of samples from the 1976 and 1978 finch populations and calculate the *d*-statistic for each pair\n",
    "- Simulate thousands of pairs of samples from the 1976 and 1978 populations and plot the null distribution of the *d*-statistic\n",
    "- Probability of observing a difference as unusually high as 0.49 mm if the null hypothesis were true: The *p*-value\n",
    "\n",
    "### [4.3 - Two sample t-test](4.3%20-%20Two%20sample%20t-test.ipynb)\n",
    "- The evolution of medium ground finch beak depths on the Galápagos islands\n",
    "- The *t*-statistic\n",
    "- Simulate a pair of samples from the 1976 and 1978 finch populations and calculate the *d* and *t*-statistics\n",
    "- Simulate thousands of pairs of samples from the 1976 and 1978 populations and plot the sampling distribution of the *t*-statistic\n",
    "- Probability of observing a *t*-statistic as unusually high as 3.18 if the null hypothesis were true: The *p*-value\n",
    "\n",
    "### [4.4 - Two sample *t*-test in practice](4.4%20-%20Two%20sample%20t-test%20in%20practice.ipynb)\n",
    "- To reject or not reject the null hypothesis\n",
    "- Reporting the result of the test\n",
    "\n",
    "### [4.5 - Visual comparison](4.5%20-%20Visual%20comparison.ipynb)\n",
    "- Swarm and strip plots\n",
    "- Modified boxplot\n",
    "- Bar plot"
   ]
  }
 ],
 "metadata": {
  "kernelspec": {
   "display_name": "Python 3 (ipykernel)",
   "language": "python",
   "name": "python3"
  },
  "language_info": {
   "codemirror_mode": {
    "name": "ipython",
    "version": 3
   },
   "file_extension": ".py",
   "mimetype": "text/x-python",
   "name": "python",
   "nbconvert_exporter": "python",
   "pygments_lexer": "ipython3",
   "version": "3.9.12"
  },
  "varInspector": {
   "cols": {
    "lenName": 16,
    "lenType": 16,
    "lenVar": 40
   },
   "kernels_config": {
    "python": {
     "delete_cmd_postfix": "",
     "delete_cmd_prefix": "del ",
     "library": "var_list.py",
     "varRefreshCmd": "print(var_dic_list())"
    },
    "r": {
     "delete_cmd_postfix": ") ",
     "delete_cmd_prefix": "rm(",
     "library": "var_list.r",
     "varRefreshCmd": "cat(var_dic_list()) "
    }
   },
   "types_to_exclude": [
    "module",
    "function",
    "builtin_function_or_method",
    "instance",
    "_Feature"
   ],
   "window_display": false
  }
 },
 "nbformat": 4,
 "nbformat_minor": 4
}
