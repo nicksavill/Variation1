{
 "cells": [
  {
   "cell_type": "markdown",
   "id": "3b9048ae",
   "metadata": {},
   "source": [
    "# Ladybird Analysis: Estimating the population mean size of your two-spot ladybirds"
   ]
  },
  {
   "cell_type": "markdown",
   "id": "501f97f8",
   "metadata": {},
   "source": [
    "## Task 1: Read in and print your groups's data"
   ]
  },
  {
   "cell_type": "markdown",
   "id": "51862156",
   "metadata": {},
   "source": [
    "Using pandas, you are now going to read in the excel spreadsheet and call it something sensible.\n",
    "\n",
    "1. In the Self-study Notebook [2.6 - Reading data from files](../Self-study%20Notebooks/2.6%20-%20Reading%20data%20from%20files.ipynb) we read in csv data files with the pandas command `pd.read_csv('filename.csv')`. To read in excel spreadsheets we use the command `pd.read_excel('filename.xlsx')`. Do this now, calling the DataFrame something sensible, such as `ladybirds`.\n",
    "\n",
    "2. Print the data to make sure it is okay."
   ]
  },
  {
   "cell_type": "code",
   "execution_count": null,
   "id": "489b37a7",
   "metadata": {},
   "outputs": [],
   "source": [
    "# read and print your ladybird size dataset"
   ]
  },
  {
   "cell_type": "markdown",
   "id": "8837e6ad",
   "metadata": {},
   "source": [
    "## Task 2: What type of variable is ladybird size?"
   ]
  },
  {
   "cell_type": "markdown",
   "id": "2a046404",
   "metadata": {},
   "source": [
    "In Self-study Notebook [2.4 - Variables and their types](../Self-study%20Notebooks/2.4%20-%20Variables%20and%20their%20types.ipynb) we talked about measured variables. What type of variable is ladybird size? Write your answer below."
   ]
  },
  {
   "cell_type": "markdown",
   "id": "c4e314ff",
   "metadata": {},
   "source": [
    "> Write your answer here.\n"
   ]
  },
  {
   "cell_type": "markdown",
   "id": "477f4bc2",
   "metadata": {},
   "source": [
    "## Task 3: Plot your group's data"
   ]
  },
  {
   "cell_type": "markdown",
   "id": "571831b6",
   "metadata": {},
   "source": [
    "Plot your two-spot ladybird sizes in an annotated histogram in the following code cell. See [2.7 - Visualising data](../Self-study%20Notebooks/2.7%20-%20Visualising%20data.ipynb) for help.\n",
    "\n",
    "**Only use your group's data. Do not plot the other group's data.** You'll analyse the other group's data next week.\n",
    "\n",
    "**Note: In Task 1 you imported pandas and read in your spreadsheet. Jupyter Notebooks remember that you did this. Which means you DO NOT need to import pandas nor read in your spreadsheet again in any of the following code cells.**  "
   ]
  },
  {
   "cell_type": "code",
   "execution_count": null,
   "id": "3f010acd",
   "metadata": {},
   "outputs": [],
   "source": [
    "# annotated histogram of two-spot ladybird sizes."
   ]
  },
  {
   "cell_type": "markdown",
   "id": "de93c559",
   "metadata": {},
   "source": [
    "## Task 4: Save your histogram to a file"
   ]
  },
  {
   "cell_type": "markdown",
   "id": "cc16b0be",
   "metadata": {},
   "source": [
    "Save your histogram to a file on the PC."
   ]
  },
  {
   "cell_type": "code",
   "execution_count": 1,
   "id": "92ac4ced",
   "metadata": {},
   "outputs": [],
   "source": [
    "# save the histogram to a file"
   ]
  },
  {
   "cell_type": "markdown",
   "id": "687c7b29",
   "metadata": {},
   "source": [
    "## Task 5: Check for outliers"
   ]
  },
  {
   "cell_type": "markdown",
   "id": "c920a1ec",
   "metadata": {},
   "source": [
    "A histogram allows you to easily spot any outliers; data that are very far from the average. Perhaps the wrong species was measured. If you think any of the data are outliers you'll need to go back to your spreadsheet in Teams, update the excel spreadsheet and re-upload to Noteable."
   ]
  },
  {
   "cell_type": "markdown",
   "id": "8a1719d6",
   "metadata": {},
   "source": [
    "## Task 6: Eye-ball estimates of the mean and standard deviation"
   ]
  },
  {
   "cell_type": "markdown",
   "id": "1fa3ca70",
   "metadata": {},
   "source": [
    "It is generally a good idea to estimate means and standard deviations by eye before calculating them on a computer. This is so you can check your eye-ball estimates with the actual values output by Python. If they don't match then you know something is wrong: either your estimates or the Python code.\n",
    "\n",
    "Using your histogram, estimate the mean and standard deviation of ladybird sizes. Remember that a rough estimate of the standard deviation is given by this formula\n",
    "\n",
    "$$s \\approx \\frac{\\mathrm{max\\ value} - \\mathrm{min\\ value}}{6}$$\n"
   ]
  },
  {
   "cell_type": "markdown",
   "id": "d2c458a4",
   "metadata": {},
   "source": [
    "> Write your estimates here"
   ]
  },
  {
   "cell_type": "markdown",
   "id": "60b148f0",
   "metadata": {},
   "source": [
    "## Task 7: Calculate the sample size, mean and standard deviation"
   ]
  },
  {
   "cell_type": "markdown",
   "id": "5b798c8e",
   "metadata": {},
   "source": [
    "Now, using Python code, calculate the sample size, mean and standard deviation of your data in the following code cell to the appropriate number of decimal places. (See Notebook [3.5 - Estimating a population mean](../Self-study%20Notebooks/3.5%20-%20Estimating%20a%20population%20mean.ipynb#95ci))\n",
    "\n",
    "How do they compare to your eye-ball estimates?"
   ]
  },
  {
   "cell_type": "code",
   "execution_count": 1,
   "id": "712f4d74",
   "metadata": {},
   "outputs": [],
   "source": [
    "# sample size, sample mean and sample standard deviation"
   ]
  },
  {
   "cell_type": "markdown",
   "id": "1d7c92ac",
   "metadata": {},
   "source": [
    "## Task 8: Check if your data obey the 68-95-99.7% rule"
   ]
  },
  {
   "cell_type": "markdown",
   "id": "3c06a21d",
   "metadata": {},
   "source": [
    "Now you should check to see if your data are roughly normally distributed.\n",
    "\n",
    "1. Check if 68% of your data lie within one standard deviation of the mean using Python code.\n",
    "    - Unless you have measured almost a hundred ladybirds, you won't be able to check the 95% and 99.7% parts of the rule. If you have measured that many then you can check 95% and 99.7%.\n",
    "2. Do you think your data are normally distributed?\n",
    "\n",
    "<div class=\"alert alert-info\">\n",
    "\n",
    "To do this task you will need to calculate, using Python code, the range from the mean minus one standard deviation to the mean plus one standard deviation. Then count how many ladybirds had sizes within this range. Is that roughly 68% of your data? \n",
    "    \n",
    "See the example at the bottom of the Notebook [2.5 - Counting values](../Self-study%20Notebooks/2.5%20-%20Counting%20values.ipynb) for how to count values within a range.\n",
    "</div>"
   ]
  },
  {
   "cell_type": "code",
   "execution_count": null,
   "id": "8eee5013",
   "metadata": {},
   "outputs": [],
   "source": [
    "# check if 68% of your data are within one standard deviation of the mean"
   ]
  },
  {
   "cell_type": "markdown",
   "id": "11b24e2b",
   "metadata": {},
   "source": [
    "## Task 9: Calculate your 95% confidence interval of the mean ladybird size"
   ]
  },
  {
   "cell_type": "markdown",
   "id": "f2df10f0",
   "metadata": {},
   "source": [
    "Finally, calculate your 95% confidence interval of the mean ladybird size. (See Notebook [3.5 - Estimating a population mean](../Self-study%20Notebooks/3.5%20-%20Estimating%20a%20population%20mean.ipynb#95ci))"
   ]
  },
  {
   "cell_type": "code",
   "execution_count": null,
   "id": "0d8e7f20",
   "metadata": {},
   "outputs": [],
   "source": [
    "# the 95% confidence interval"
   ]
  },
  {
   "cell_type": "markdown",
   "id": "0d45df0a",
   "metadata": {},
   "source": [
    "## Task 10: Report your 95% confidence interval"
   ]
  },
  {
   "cell_type": "markdown",
   "id": "3e1a2b41",
   "metadata": {},
   "source": [
    "Write a short sentence below reporting your confidence interval. (See Notebook [3.5 - Estimating a population mean](../Self-study%20Notebooks/3.5%20-%20Estimating%20a%20population%20mean.ipynb#report95ci))"
   ]
  },
  {
   "cell_type": "markdown",
   "id": "200694ae",
   "metadata": {},
   "source": [
    "> Report the 95% confidence interval"
   ]
  },
  {
   "cell_type": "markdown",
   "id": "1e82272f",
   "metadata": {},
   "source": [
    "## Task 11: Share this Notebook with your group"
   ]
  },
  {
   "cell_type": "markdown",
   "id": "7e0e33df",
   "metadata": {},
   "source": [
    "Follow these instructions to share this Notebook with the rest of your group.\n",
    "1. Click on **File** in the top left.\n",
    "2. Select **Download as** and **Notebook (.ipynb)**. This will download this Notebook to the PC.\n",
    "3. Go to **Learn** and open **My Workshop Group Discussion Board**.\n",
    "4. Click in the box which says ***Type a response***.\n",
    "5. Click on the paperclip to add this Notebook as an attachment.\n",
    "6. Now everyone in your group can upload this Notebook to their private Noteable account."
   ]
  }
 ],
 "metadata": {
  "kernelspec": {
   "display_name": "Python 3 (ipykernel)",
   "language": "python",
   "name": "python3"
  },
  "language_info": {
   "codemirror_mode": {
    "name": "ipython",
    "version": 3
   },
   "file_extension": ".py",
   "mimetype": "text/x-python",
   "name": "python",
   "nbconvert_exporter": "python",
   "pygments_lexer": "ipython3",
   "version": "3.9.12"
  },
  "varInspector": {
   "cols": {
    "lenName": 16,
    "lenType": 16,
    "lenVar": 40
   },
   "kernels_config": {
    "python": {
     "delete_cmd_postfix": "",
     "delete_cmd_prefix": "del ",
     "library": "var_list.py",
     "varRefreshCmd": "print(var_dic_list())"
    },
    "r": {
     "delete_cmd_postfix": ") ",
     "delete_cmd_prefix": "rm(",
     "library": "var_list.r",
     "varRefreshCmd": "cat(var_dic_list()) "
    }
   },
   "types_to_exclude": [
    "module",
    "function",
    "builtin_function_or_method",
    "instance",
    "_Feature"
   ],
   "window_display": false
  }
 },
 "nbformat": 4,
 "nbformat_minor": 5
}
