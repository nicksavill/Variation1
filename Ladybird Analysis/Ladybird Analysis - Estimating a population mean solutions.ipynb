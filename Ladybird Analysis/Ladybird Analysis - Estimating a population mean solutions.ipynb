{
 "cells": [
  {
   "cell_type": "markdown",
   "id": "3b9048ae",
   "metadata": {},
   "source": [
    "# Ladybird Analysis: Estimating the population mean size of your two-spot ladybirds"
   ]
  },
  {
   "cell_type": "markdown",
   "id": "e669eb02",
   "metadata": {},
   "source": [
    "<div class=\"alert alert-success\">\n",
    "\n",
    "For this solution I am using the ladybird data collected from group A1.\n",
    "</div>"
   ]
  },
  {
   "cell_type": "markdown",
   "id": "501f97f8",
   "metadata": {},
   "source": [
    "## Task 1: Read in and print your groups's data"
   ]
  },
  {
   "cell_type": "markdown",
   "id": "51862156",
   "metadata": {},
   "source": [
    "Using pandas, you are now going to read in the excel spreadsheet and call it something sensible.\n",
    "\n",
    "1. In the Self-study notebooks we read in csv data files with the pandas command `pd.read_csv(filename)`. To read in excel spreadsheets we use the command `pd.read_excel(filename)`. Do this now, calling the DataFrame something sensible, such as `ladybirds`.\n",
    "\n",
    "2. Print the data to make sure it is okay."
   ]
  },
  {
   "cell_type": "code",
   "execution_count": 1,
   "id": "d30db849",
   "metadata": {},
   "outputs": [
    {
     "data": {
      "text/html": [
       "<div>\n",
       "<style scoped>\n",
       "    .dataframe tbody tr th:only-of-type {\n",
       "        vertical-align: middle;\n",
       "    }\n",
       "\n",
       "    .dataframe tbody tr th {\n",
       "        vertical-align: top;\n",
       "    }\n",
       "\n",
       "    .dataframe thead th {\n",
       "        text-align: right;\n",
       "    }\n",
       "</style>\n",
       "<table border=\"1\" class=\"dataframe\">\n",
       "  <thead>\n",
       "    <tr style=\"text-align: right;\">\n",
       "      <th></th>\n",
       "      <th>low</th>\n",
       "      <th>high</th>\n",
       "    </tr>\n",
       "  </thead>\n",
       "  <tbody>\n",
       "    <tr>\n",
       "      <th>0</th>\n",
       "      <td>3.5</td>\n",
       "      <td>4.5</td>\n",
       "    </tr>\n",
       "    <tr>\n",
       "      <th>1</th>\n",
       "      <td>4.0</td>\n",
       "      <td>6.0</td>\n",
       "    </tr>\n",
       "    <tr>\n",
       "      <th>2</th>\n",
       "      <td>4.0</td>\n",
       "      <td>6.0</td>\n",
       "    </tr>\n",
       "    <tr>\n",
       "      <th>3</th>\n",
       "      <td>5.0</td>\n",
       "      <td>6.5</td>\n",
       "    </tr>\n",
       "    <tr>\n",
       "      <th>4</th>\n",
       "      <td>4.0</td>\n",
       "      <td>6.0</td>\n",
       "    </tr>\n",
       "    <tr>\n",
       "      <th>5</th>\n",
       "      <td>4.0</td>\n",
       "      <td>4.0</td>\n",
       "    </tr>\n",
       "    <tr>\n",
       "      <th>6</th>\n",
       "      <td>3.0</td>\n",
       "      <td>6.0</td>\n",
       "    </tr>\n",
       "    <tr>\n",
       "      <th>7</th>\n",
       "      <td>3.5</td>\n",
       "      <td>5.0</td>\n",
       "    </tr>\n",
       "    <tr>\n",
       "      <th>8</th>\n",
       "      <td>4.0</td>\n",
       "      <td>5.0</td>\n",
       "    </tr>\n",
       "    <tr>\n",
       "      <th>9</th>\n",
       "      <td>4.0</td>\n",
       "      <td>6.0</td>\n",
       "    </tr>\n",
       "    <tr>\n",
       "      <th>10</th>\n",
       "      <td>6.0</td>\n",
       "      <td>5.5</td>\n",
       "    </tr>\n",
       "    <tr>\n",
       "      <th>11</th>\n",
       "      <td>4.0</td>\n",
       "      <td>5.0</td>\n",
       "    </tr>\n",
       "    <tr>\n",
       "      <th>12</th>\n",
       "      <td>5.0</td>\n",
       "      <td>4.0</td>\n",
       "    </tr>\n",
       "    <tr>\n",
       "      <th>13</th>\n",
       "      <td>4.0</td>\n",
       "      <td>5.5</td>\n",
       "    </tr>\n",
       "    <tr>\n",
       "      <th>14</th>\n",
       "      <td>4.5</td>\n",
       "      <td>6.0</td>\n",
       "    </tr>\n",
       "    <tr>\n",
       "      <th>15</th>\n",
       "      <td>5.0</td>\n",
       "      <td>5.0</td>\n",
       "    </tr>\n",
       "    <tr>\n",
       "      <th>16</th>\n",
       "      <td>4.0</td>\n",
       "      <td>5.0</td>\n",
       "    </tr>\n",
       "    <tr>\n",
       "      <th>17</th>\n",
       "      <td>4.5</td>\n",
       "      <td>4.5</td>\n",
       "    </tr>\n",
       "    <tr>\n",
       "      <th>18</th>\n",
       "      <td>4.0</td>\n",
       "      <td>6.0</td>\n",
       "    </tr>\n",
       "    <tr>\n",
       "      <th>19</th>\n",
       "      <td>3.0</td>\n",
       "      <td>4.5</td>\n",
       "    </tr>\n",
       "    <tr>\n",
       "      <th>20</th>\n",
       "      <td>4.0</td>\n",
       "      <td>6.0</td>\n",
       "    </tr>\n",
       "    <tr>\n",
       "      <th>21</th>\n",
       "      <td>4.0</td>\n",
       "      <td>4.5</td>\n",
       "    </tr>\n",
       "    <tr>\n",
       "      <th>22</th>\n",
       "      <td>3.0</td>\n",
       "      <td>4.5</td>\n",
       "    </tr>\n",
       "    <tr>\n",
       "      <th>23</th>\n",
       "      <td>4.0</td>\n",
       "      <td>5.0</td>\n",
       "    </tr>\n",
       "    <tr>\n",
       "      <th>24</th>\n",
       "      <td>5.0</td>\n",
       "      <td>4.5</td>\n",
       "    </tr>\n",
       "    <tr>\n",
       "      <th>25</th>\n",
       "      <td>5.0</td>\n",
       "      <td>4.5</td>\n",
       "    </tr>\n",
       "    <tr>\n",
       "      <th>26</th>\n",
       "      <td>4.5</td>\n",
       "      <td>3.0</td>\n",
       "    </tr>\n",
       "    <tr>\n",
       "      <th>27</th>\n",
       "      <td>4.0</td>\n",
       "      <td>4.5</td>\n",
       "    </tr>\n",
       "    <tr>\n",
       "      <th>28</th>\n",
       "      <td>3.5</td>\n",
       "      <td>5.0</td>\n",
       "    </tr>\n",
       "    <tr>\n",
       "      <th>29</th>\n",
       "      <td>5.0</td>\n",
       "      <td>5.0</td>\n",
       "    </tr>\n",
       "  </tbody>\n",
       "</table>\n",
       "</div>"
      ],
      "text/plain": [
       "    low  high\n",
       "0   3.5   4.5\n",
       "1   4.0   6.0\n",
       "2   4.0   6.0\n",
       "3   5.0   6.5\n",
       "4   4.0   6.0\n",
       "5   4.0   4.0\n",
       "6   3.0   6.0\n",
       "7   3.5   5.0\n",
       "8   4.0   5.0\n",
       "9   4.0   6.0\n",
       "10  6.0   5.5\n",
       "11  4.0   5.0\n",
       "12  5.0   4.0\n",
       "13  4.0   5.5\n",
       "14  4.5   6.0\n",
       "15  5.0   5.0\n",
       "16  4.0   5.0\n",
       "17  4.5   4.5\n",
       "18  4.0   6.0\n",
       "19  3.0   4.5\n",
       "20  4.0   6.0\n",
       "21  4.0   4.5\n",
       "22  3.0   4.5\n",
       "23  4.0   5.0\n",
       "24  5.0   4.5\n",
       "25  5.0   4.5\n",
       "26  4.5   3.0\n",
       "27  4.0   4.5\n",
       "28  3.5   5.0\n",
       "29  5.0   5.0"
      ]
     },
     "execution_count": 1,
     "metadata": {},
     "output_type": "execute_result"
    }
   ],
   "source": [
    "# read and print your ladybird size dataset\n",
    "\n",
    "import pandas as pd\n",
    "\n",
    "ladybirds = pd.read_excel('ladybird_sizes_Groups_A1_A2.xlsx')\n",
    "\n",
    "ladybirds"
   ]
  },
  {
   "cell_type": "markdown",
   "id": "8837e6ad",
   "metadata": {},
   "source": [
    "## Task 2: What type of variable is ladybird size?"
   ]
  },
  {
   "cell_type": "markdown",
   "id": "2a046404",
   "metadata": {},
   "source": [
    "In [Self-study Notebook 2.4 - Variables and their types](../Self-study%20Notebooks/2.4%20-%20Variables%20and%20their%20types.ipynb) we talked about measured variables. What type of variable is ladybird size? Write your answer below."
   ]
  },
  {
   "cell_type": "markdown",
   "id": "c4e314ff",
   "metadata": {},
   "source": [
    "> Numerical continuous\n"
   ]
  },
  {
   "cell_type": "markdown",
   "id": "477f4bc2",
   "metadata": {},
   "source": [
    "## Task 3: Plot your group's data"
   ]
  },
  {
   "cell_type": "markdown",
   "id": "571831b6",
   "metadata": {},
   "source": [
    "Plot your two-spot ladybird sizes in an annotated histogram in the following code cell.\n",
    "\n",
    "**Only use your group's data. Do not plot the other group's data.** You'll analyse the other group's data next week."
   ]
  },
  {
   "cell_type": "code",
   "execution_count": 2,
   "id": "3f010acd",
   "metadata": {},
   "outputs": [
    {
     "data": {
      "image/png": "[encoded data removed]",
      "text/plain": [
       "<Figure size 360x360 with 1 Axes>"
      ]
     },
     "metadata": {
      "needs_background": "light"
     },
     "output_type": "display_data"
    }
   ],
   "source": [
    "# Annotated histogram of two-spot ladybird sizes.\n",
    "\n",
    "import seaborn as sns\n",
    "\n",
    "g = sns.displot(ladybirds['low'])\n",
    "\n",
    "# Add some useful annotation to help others understand what the graph contains\n",
    "g.ax.set_xlabel('Size (mm)')\n",
    "g.ax.set_ylabel('Number of ladybirds')\n",
    "g.ax.set_title('Sizes of two-spot ladybirds collected from a cemetery');"
   ]
  },
  {
   "cell_type": "markdown",
   "id": "de93c559",
   "metadata": {},
   "source": [
    "## Task 4: Save your histogram to a file"
   ]
  },
  {
   "cell_type": "markdown",
   "id": "cc16b0be",
   "metadata": {},
   "source": [
    "Save your histogram to a file on the PC."
   ]
  },
  {
   "cell_type": "code",
   "execution_count": 3,
   "id": "92ac4ced",
   "metadata": {},
   "outputs": [],
   "source": [
    "# save the histogram to a file\n",
    "\n",
    "g.savefig('ladybirds.jpg')"
   ]
  },
  {
   "cell_type": "markdown",
   "id": "687c7b29",
   "metadata": {},
   "source": [
    "## Task 5: Check for outliers"
   ]
  },
  {
   "cell_type": "markdown",
   "id": "c920a1ec",
   "metadata": {},
   "source": [
    "A histogram allows you to easily spot any outliers; data that are very far from the average. Perhaps the wrong species was measured. If you think any of the data are outliers you'll need to go back to your spreadsheet in Teams, update the excel spreadsheet and re-upload to Noteable."
   ]
  },
  {
   "cell_type": "markdown",
   "id": "8a1719d6",
   "metadata": {},
   "source": [
    "## Task 6: Eye-ball estimates of the mean and standard deviation"
   ]
  },
  {
   "cell_type": "markdown",
   "id": "1fa3ca70",
   "metadata": {},
   "source": [
    "It is generally a good idea to estimate means and standard deviations by eye before calculating them on a computer. This is so you can check your eye-ball estimates with the actual values output by Python. If they don't match then you know something is wrong: either your estimates or the Python code.\n",
    "\n",
    "Using your histogram, estimate the mean and standard deviation of ladybird sizes. Remember that a rough estimate of the standard deviation is given by this formula\n",
    "\n",
    "$$s \\approx \\frac{\\mathrm{max\\ value} - \\mathrm{min\\ value}}{6}$$\n"
   ]
  },
  {
   "cell_type": "markdown",
   "id": "29162428",
   "metadata": {},
   "source": [
    "mean is about 4.0 mm\n",
    "s is about (6-3)/6 = 0.5 mm"
   ]
  },
  {
   "cell_type": "markdown",
   "id": "60b148f0",
   "metadata": {},
   "source": [
    "## Task 7: Calculate the sample size, mean and standard deviation"
   ]
  },
  {
   "cell_type": "markdown",
   "id": "5b798c8e",
   "metadata": {},
   "source": [
    "Now, using Python code, calculate the sample size, mean and standard deviation of your data in the following code cell to the appropriate number of decimal places.\n",
    "\n",
    "How do they compare to your eye-ball estimates?"
   ]
  },
  {
   "cell_type": "code",
   "execution_count": 3,
   "id": "712f4d74",
   "metadata": {},
   "outputs": [
    {
     "name": "stdout",
     "output_type": "stream",
     "text": [
      "sample size = 30 ladybirds\n",
      "mean = 4.17 mm\n",
      "st. dev. = 0.69 mm\n"
     ]
    }
   ],
   "source": [
    "# sample size, sample mean and sample standard deviation\n",
    "\n",
    "n = ladybirds['low'].count()   # sample size\n",
    "xbar = ladybirds['low'].mean() # sample mean\n",
    "s = ladybirds['low'].std()     # sample standard deviation\n",
    "\n",
    "print(f'sample size = {n} ladybirds')\n",
    "print(f'mean = {xbar:.2f} mm')\n",
    "print(f'st. dev. = {s:.2f} mm')"
   ]
  },
  {
   "cell_type": "markdown",
   "id": "1d7c92ac",
   "metadata": {},
   "source": [
    "## Task 8: Check if your data obey the 68-95-99.7% rule"
   ]
  },
  {
   "cell_type": "markdown",
   "id": "3c06a21d",
   "metadata": {},
   "source": [
    "Now you should check to see if your data are roughly normally distributed.\n",
    "\n",
    "1. Check if 68% of your data lie within one standard deviation of the mean using Python code.\n",
    "    - Unless you have measured over a hundred ladybirds, you won't be able to check the 95% and 99.7% parts of the rule.\n",
    "2. Do you think your data are normally distributed?"
   ]
  },
  {
   "cell_type": "code",
   "execution_count": 5,
   "id": "8eee5013",
   "metadata": {},
   "outputs": [
    {
     "name": "stdout",
     "output_type": "stream",
     "text": [
      "expected number of ladybirds within 1 st. dev. of the mean = 20.4\n",
      "20 ladybirds have sizes between 3.48 mm and 4.85 mm\n",
      "Therefore 66.7% of ladybirds have sizes within one standard deviation of the mean\n"
     ]
    }
   ],
   "source": [
    "# check if 68% of your data are within one standard deviation of the mean\n",
    "\n",
    "print(f'expected number of ladybirds within 1 st. dev. of the mean = {0.68*n:.1f}')\n",
    "\n",
    "# Set tally of ladybird sizes within one standard deviation of the mean to zero.\n",
    "count = 0\n",
    "\n",
    "# Loop through ladybird sizes one at a time.\n",
    "for size in ladybirds['low']:\n",
    "    \n",
    "    # If this ladybird's size is within one standard deviation of the mean increment tally by 1. \n",
    "    if xbar - s < size < xbar + s:\n",
    "        count += 1\n",
    "\n",
    "print( f'{count} ladybirds have sizes between {xbar - s:.2f} mm and {xbar + s:.2f} mm' )\n",
    "print( f'Therefore {count / n:.1%} of ladybirds have sizes within one standard deviation of the mean' )"
   ]
  },
  {
   "cell_type": "markdown",
   "id": "11b24e2b",
   "metadata": {},
   "source": [
    "## Task 9: Calculate your 95% confidence interval of the mean ladybird size"
   ]
  },
  {
   "cell_type": "markdown",
   "id": "f2df10f0",
   "metadata": {},
   "source": [
    "Finally, calculate your 95% confidence interval of the mean ladybird size."
   ]
  },
  {
   "cell_type": "code",
   "execution_count": 6,
   "id": "0d8e7f20",
   "metadata": {},
   "outputs": [
    {
     "name": "stdout",
     "output_type": "stream",
     "text": [
      "SEM = 0.13 mm\n",
      "lower limit = 3.92 mm\n",
      "upper limit = 4.42 mm\n"
     ]
    }
   ],
   "source": [
    "# the 95% confidence interval\n",
    "from math import sqrt\n",
    "\n",
    "SEM = s / sqrt(n) # the standard error of the mean\n",
    "\n",
    "lower_limit = xbar - 2 * SEM   # Lower limit of 95% CI\n",
    "upper_limit = xbar + 2 * SEM   # Upper limit of 95% CI\n",
    "\n",
    "print(f'SEM = {SEM:.2f} mm')\n",
    "print(f'lower limit = {lower_limit:.2f} mm')\n",
    "print(f'upper limit = {upper_limit:.2f} mm')"
   ]
  },
  {
   "cell_type": "markdown",
   "id": "116f2c4e",
   "metadata": {},
   "source": [
    "## Task 10: Report your 95% confidence interval"
   ]
  },
  {
   "cell_type": "markdown",
   "id": "891f7f3a",
   "metadata": {},
   "source": [
    "Write a short sentence below reporting your confidence interval."
   ]
  },
  {
   "cell_type": "markdown",
   "id": "200694ae",
   "metadata": {},
   "source": [
    "> Mean ladybird size is 4.17 mm (95% CI: 3.92 - 4.42 mm)\n",
    "\n",
    "> Mean ladybird size is 4.17 mm (SEM: 0.13 mm)\n"
   ]
  }
 ],
 "metadata": {
  "kernelspec": {
   "display_name": "Python 3 (ipykernel)",
   "language": "python",
   "name": "python3"
  },
  "language_info": {
   "codemirror_mode": {
    "name": "ipython",
    "version": 3
   },
   "file_extension": ".py",
   "mimetype": "text/x-python",
   "name": "python",
   "nbconvert_exporter": "python",
   "pygments_lexer": "ipython3",
   "version": "3.9.12"
  },
  "varInspector": {
   "cols": {
    "lenName": 16,
    "lenType": 16,
    "lenVar": 40
   },
   "kernels_config": {
    "python": {
     "delete_cmd_postfix": "",
     "delete_cmd_prefix": "del ",
     "library": "var_list.py",
     "varRefreshCmd": "print(var_dic_list())"
    },
    "r": {
     "delete_cmd_postfix": ") ",
     "delete_cmd_prefix": "rm(",
     "library": "var_list.r",
     "varRefreshCmd": "cat(var_dic_list()) "
    }
   },
   "types_to_exclude": [
    "module",
    "function",
    "builtin_function_or_method",
    "instance",
    "_Feature"
   ],
   "window_display": false
  }
 },
 "nbformat": 4,
 "nbformat_minor": 5
}
