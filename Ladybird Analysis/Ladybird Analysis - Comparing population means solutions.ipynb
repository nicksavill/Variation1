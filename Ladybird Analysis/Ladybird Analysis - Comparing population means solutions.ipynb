{
 "cells": [
  {
   "cell_type": "markdown",
   "id": "3b9048ae",
   "metadata": {},
   "source": [
    "# Ladybird Analysis\n",
    "\n",
    "# Compare the mean sizes of low and high predated two-spot ladybird populations"
   ]
  },
  {
   "cell_type": "markdown",
   "id": "918ac59f",
   "metadata": {},
   "source": [
    "<div class=\"alert alert-success\">\n",
    "\n",
    "# Part 1: Exploring your data\n",
    "</div>"
   ]
  },
  {
   "cell_type": "markdown",
   "id": "501f97f8",
   "metadata": {},
   "source": [
    "## Task 1.2: Read in and print the low and high predation samples to check the data are okay"
   ]
  },
  {
   "cell_type": "markdown",
   "id": "51862156",
   "metadata": {},
   "source": [
    "Using pandas, read in your excel spreadsheet and call it something sensible.\n",
    "\n",
    "1. To read in excel spreadsheets we use the command `pd.read_excel('filename.xlsx')`. Do this now, calling the DataFrame something sensible, such as `ladybirds`.\n",
    "\n",
    "2. Print the data to make sure it is okay. You should see two columns headed `low` and `high`. You will probably see `NaN` repeated at the bottom of one of the columns. This isn't a problem; it's just because different numbers of ladybirds were measured in the two cemeteries."
   ]
  },
  {
   "cell_type": "code",
   "execution_count": 1,
   "id": "489b37a7",
   "metadata": {},
   "outputs": [
    {
     "data": {
      "text/html": [
       "<div>\n",
       "<style scoped>\n",
       "    .dataframe tbody tr th:only-of-type {\n",
       "        vertical-align: middle;\n",
       "    }\n",
       "\n",
       "    .dataframe tbody tr th {\n",
       "        vertical-align: top;\n",
       "    }\n",
       "\n",
       "    .dataframe thead th {\n",
       "        text-align: right;\n",
       "    }\n",
       "</style>\n",
       "<table border=\"1\" class=\"dataframe\">\n",
       "  <thead>\n",
       "    <tr style=\"text-align: right;\">\n",
       "      <th></th>\n",
       "      <th>low</th>\n",
       "      <th>high</th>\n",
       "    </tr>\n",
       "  </thead>\n",
       "  <tbody>\n",
       "    <tr>\n",
       "      <th>0</th>\n",
       "      <td>3.5</td>\n",
       "      <td>4.5</td>\n",
       "    </tr>\n",
       "    <tr>\n",
       "      <th>1</th>\n",
       "      <td>4.0</td>\n",
       "      <td>6.0</td>\n",
       "    </tr>\n",
       "    <tr>\n",
       "      <th>2</th>\n",
       "      <td>4.0</td>\n",
       "      <td>6.0</td>\n",
       "    </tr>\n",
       "    <tr>\n",
       "      <th>3</th>\n",
       "      <td>5.0</td>\n",
       "      <td>6.5</td>\n",
       "    </tr>\n",
       "    <tr>\n",
       "      <th>4</th>\n",
       "      <td>4.0</td>\n",
       "      <td>6.0</td>\n",
       "    </tr>\n",
       "    <tr>\n",
       "      <th>...</th>\n",
       "      <td>...</td>\n",
       "      <td>...</td>\n",
       "    </tr>\n",
       "    <tr>\n",
       "      <th>60</th>\n",
       "      <td>4.8</td>\n",
       "      <td>NaN</td>\n",
       "    </tr>\n",
       "    <tr>\n",
       "      <th>61</th>\n",
       "      <td>5.3</td>\n",
       "      <td>NaN</td>\n",
       "    </tr>\n",
       "    <tr>\n",
       "      <th>62</th>\n",
       "      <td>5.0</td>\n",
       "      <td>NaN</td>\n",
       "    </tr>\n",
       "    <tr>\n",
       "      <th>63</th>\n",
       "      <td>4.5</td>\n",
       "      <td>NaN</td>\n",
       "    </tr>\n",
       "    <tr>\n",
       "      <th>64</th>\n",
       "      <td>5.0</td>\n",
       "      <td>NaN</td>\n",
       "    </tr>\n",
       "  </tbody>\n",
       "</table>\n",
       "<p>65 rows × 2 columns</p>\n",
       "</div>"
      ],
      "text/plain": [
       "    low  high\n",
       "0   3.5   4.5\n",
       "1   4.0   6.0\n",
       "2   4.0   6.0\n",
       "3   5.0   6.5\n",
       "4   4.0   6.0\n",
       "..  ...   ...\n",
       "60  4.8   NaN\n",
       "61  5.3   NaN\n",
       "62  5.0   NaN\n",
       "63  4.5   NaN\n",
       "64  5.0   NaN\n",
       "\n",
       "[65 rows x 2 columns]"
      ]
     },
     "execution_count": 1,
     "metadata": {},
     "output_type": "execute_result"
    }
   ],
   "source": [
    "# read and print your ladybird size dataset\n",
    "import pandas as pd\n",
    "\n",
    "ladybirds = pd.read_excel('ladybird_sizes_demo.xlsx')\n",
    "\n",
    "ladybirds"
   ]
  },
  {
   "cell_type": "markdown",
   "id": "477f4bc2",
   "metadata": {},
   "source": [
    "## Task 1.3: Plot the samples in a histogram to see how they are distributed"
   ]
  },
  {
   "cell_type": "markdown",
   "id": "571831b6",
   "metadata": {},
   "source": [
    "Plot the distributions of the low and high predation samples as histograms in a single annotated graph. \n",
    "\n",
    "See [2.7 - Visualising data](../Self-study%20Notebooks/2.7%20-%20Visualising%20data.ipynb) for help."
   ]
  },
  {
   "cell_type": "code",
   "execution_count": 3,
   "id": "3f010acd",
   "metadata": {},
   "outputs": [
    {
     "data": {
      "image/png": "[encoded data removed]",
      "text/plain": [
       "<Figure size 418x360 with 1 Axes>"
      ]
     },
     "metadata": {
      "needs_background": "light"
     },
     "output_type": "display_data"
    }
   ],
   "source": [
    "# annotated histograms of samples of two-spot ladybird sizes from low and high predation cemeteries\n",
    "\n",
    "import seaborn as sns\n",
    "\n",
    "g = sns.displot(ladybirds)\n",
    "g.ax.set_xlabel('Size (mm)')\n",
    "g.ax.set_ylabel('Number of ladybirds')\n",
    "g.ax.set_title('Sizes of two-spot ladybirds in low and high predation sites')\n",
    "g.legend.set_title('Predation level');"
   ]
  },
  {
   "cell_type": "markdown",
   "id": "5b60bbc3",
   "metadata": {},
   "source": [
    "## Task 1.4: The distributions might be clearer in a boxplot"
   ]
  },
  {
   "cell_type": "markdown",
   "id": "12e6ca28",
   "metadata": {},
   "source": [
    "Your `low` and `high` histograms will probably overlap quite a lot. This makes it hard to see if the means of the two samples are different.\n",
    "\n",
    "If that is the case, a boxplot is probably a better way to visualise your data as it hides individual data points and instead uses a 5-number-summary to summarise the distribution of your samples. \n",
    "\n",
    "Plot the distributions of the low and high predation samples in an annotated boxplot. \n",
    "\n",
    "See [4.5 - Visual comparison](../Self-study%20Notebooks/4.5%20-%20Visual%20comparison.ipynb) for help."
   ]
  },
  {
   "cell_type": "code",
   "execution_count": 4,
   "id": "9109bf07",
   "metadata": {},
   "outputs": [
    {
     "data": {
      "image/png": "[encoded data removed]",
      "text/plain": [
       "<Figure size 360x360 with 1 Axes>"
      ]
     },
     "metadata": {
      "needs_background": "light"
     },
     "output_type": "display_data"
    }
   ],
   "source": [
    "# a boxplot to visually compare ladybird sizes from low and high predation cemeteries \n",
    "\n",
    "g = sns.catplot(data=ladybirds, kind='box')\n",
    "g.ax.set_ylabel('Size (mm)')\n",
    "g.ax.set_xlabel('Predation level')\n",
    "g.ax.set_title('Sizes of two-spot ladybirds in low and high predation sites');"
   ]
  },
  {
   "cell_type": "markdown",
   "id": "fda92639",
   "metadata": {},
   "source": [
    "## Task 1.5: What does the box and the various lines in a boxplot represent?"
   ]
  },
  {
   "cell_type": "markdown",
   "id": "d29f59ba",
   "metadata": {},
   "source": [
    "If you don't know try googling the answer. Write your answer in the following markdown cell."
   ]
  },
  {
   "cell_type": "markdown",
   "id": "485e61f0",
   "metadata": {},
   "source": [
    "> The boxes represent the middle 50% of data. Also called the inter-quartile range. The horizontal line in the box is the median value. Half the data lie above it and half below it. The whiskers represent most of the rest of the data. Their lengths are 1.5 times the inter-quartile range."
   ]
  },
  {
   "cell_type": "markdown",
   "id": "8a1719d6",
   "metadata": {},
   "source": [
    "## Task 1.6: Eye-ball estimates of the means and standard deviations"
   ]
  },
  {
   "cell_type": "markdown",
   "id": "1fa3ca70",
   "metadata": {},
   "source": [
    "It is generally a good idea to estimate means and standard deviations by eye before calculating them on a computer. This is so you can check your eye-ball estimates with the actual values output by Python. If they don't match then you know something is wrong: either your estimates or your code.\n",
    "\n",
    "Using your histograms or boxplots, estimate the means and standard deviations of ladybird sizes from both cemeteries. Remember that a rough estimate of the standard deviation is given by this formula\n",
    "\n",
    "$$s \\approx \\frac{\\mathrm{max\\ value} - \\mathrm{min\\ value}}{6}$$\n"
   ]
  },
  {
   "cell_type": "markdown",
   "id": "d2c458a4",
   "metadata": {},
   "source": [
    "> low: xbar = 4.5 mm, s = 0.5 mm\n",
    "\n",
    "> high: xbar = 5 mm, s = 0.6 mm"
   ]
  },
  {
   "cell_type": "markdown",
   "id": "60b148f0",
   "metadata": {},
   "source": [
    "## Task 1.7: Calculate the sample sizes, means and standard deviations"
   ]
  },
  {
   "cell_type": "markdown",
   "id": "5b798c8e",
   "metadata": {},
   "source": [
    "Now, using Python code, calculate the sample sizes, means and standard deviations of the two samples and print to the appropriate number of decimal places.\n",
    "\n",
    "See Notebook [4.2 - Comparing two population means](../Self-study%20Notebooks/4.2%20-%20Comparing%20two%20population%20means.ipynb#Sample-means-and-standard-deviations) for example code.\n",
    "\n",
    "How do they compare to your eye-ball estimates?"
   ]
  },
  {
   "cell_type": "code",
   "execution_count": 5,
   "id": "712f4d74",
   "metadata": {},
   "outputs": [
    {
     "name": "stdout",
     "output_type": "stream",
     "text": [
      "Sample sizes, n\n",
      "low     65\n",
      "high    49\n",
      "dtype: int64\n",
      "\n",
      "Sample means to 2dp, xbar\n",
      "low     4.62\n",
      "high    4.97\n",
      "dtype: float64\n",
      "\n",
      "Sample standard deviations to 2dp, s\n",
      "low     0.74\n",
      "high    0.74\n",
      "dtype: float64\n"
     ]
    }
   ],
   "source": [
    "# sample sizes, sample means and sample standard deviations of both samples\n",
    "\n",
    "n = ladybirds.count()\n",
    "xbar = ladybirds.mean()\n",
    "s = ladybirds.std()\n",
    "\n",
    "print('Sample sizes, n')\n",
    "print(n)\n",
    "print() # Blank line\n",
    "\n",
    "print('Sample means to 2dp, xbar')\n",
    "print(round(xbar, 2))\n",
    "print() # Blank line\n",
    "\n",
    "print('Sample standard deviations to 2dp, s')\n",
    "print(round(s, 2))"
   ]
  },
  {
   "cell_type": "markdown",
   "id": "1d7c92ac",
   "metadata": {},
   "source": [
    "## Task 1.8: Calculate the *d*-statistic: the difference in sample means"
   ]
  },
  {
   "cell_type": "markdown",
   "id": "3c06a21d",
   "metadata": {},
   "source": [
    "Using the sample means you just calculated, calculate, using Python code, the difference in sample means. We will call this the *d*-statistic. \n",
    "\n",
    "See Notebook [4.2 - Comparing two population means](../Self-study%20Notebooks/4.2%20-%20Comparing%20two%20population%20means.ipynb#The-test-statistic) for the code to do this."
   ]
  },
  {
   "cell_type": "code",
   "execution_count": 6,
   "id": "8eee5013",
   "metadata": {},
   "outputs": [
    {
     "name": "stdout",
     "output_type": "stream",
     "text": [
      "difference in observed beak depths = 0.35 mm\n"
     ]
    }
   ],
   "source": [
    "# calculate your observed d-statistic: difference in sample means\n",
    "\n",
    "d = xbar['high'] - xbar['low']\n",
    "\n",
    "print(f'difference in observed beak depths = {d:.2f} mm')"
   ]
  },
  {
   "cell_type": "markdown",
   "id": "de93c559",
   "metadata": {},
   "source": [
    "## Task 1.9: Take a guess on whether the population means are the same or different?"
   ]
  },
  {
   "cell_type": "markdown",
   "id": "cc16b0be",
   "metadata": {},
   "source": [
    "Based on the plots and your calculated means, take a guess on whether mean ladybird sizes of the two **populations**, from which your two samples are drawn, are the same, or are different, or can't you tell (is there too much overlap of the two distributions)?\n",
    "\n",
    "Write your answer below and give a reason for your answer."
   ]
  },
  {
   "cell_type": "markdown",
   "id": "f2d2e4ca",
   "metadata": {},
   "source": [
    "> Although there is a difference in the sample means, there is a lot of overlap between ladybird sizes in the two sites. Therefore, it's not clear if there is a significant difference in the population means."
   ]
  },
  {
   "cell_type": "markdown",
   "id": "042325d7",
   "metadata": {},
   "source": [
    "## Task 1.10: Is the mean of the high predation sample *smaller* than the mean of the low predation sample?"
   ]
  },
  {
   "cell_type": "markdown",
   "id": "10816271",
   "metadata": {},
   "source": [
    "Our prediction is that two-spot ladybirds in the high predation cemetery will have a *larger* mean size than ladybirds in the low predation cemetery. Is that the case in your data?\n",
    "\n",
    "If the opposite is true then your data do not support our biological hypothesis that Harlequin ladybirds prefer to predate on small two-spot ladybirds. List three potential reasons why your data show the opposite to our prediction."
   ]
  },
  {
   "cell_type": "markdown",
   "id": "4bc0ef18",
   "metadata": {},
   "source": [
    "> The mean of the high predation cemetery is higher than the mean of the low predation cemetery. This is in accordance with our prediction."
   ]
  },
  {
   "cell_type": "markdown",
   "id": "37e65fa4",
   "metadata": {},
   "source": [
    "<div class=\"alert alert-success\">\n",
    "\n",
    "\n",
    "# Part 2: How likely is the observed difference in your sample means (the *d*-statistic) if the null hypothesis were true? The *p*-value.\n",
    "</div>"
   ]
  },
  {
   "cell_type": "markdown",
   "id": "ec4c5e53",
   "metadata": {},
   "source": [
    "Having looked at your data and calculated the difference in the sample means, you next need to work out how likely that difference is assuming the null hypothesis were true.\n",
    "\n",
    "If that difference is **likely** under the null hypothesis then you have insufficient evidence to reject the null hypothesis and, therefore, insufficient evidence to conclude that Harlequin ladybirds prefer to eat small two-spot ladybirds.\n",
    "\n",
    "On the other hand, if that difference is **unlikely** under the null hypothesis then you have sufficient evidence to reject the null hypothesis. In addition, if the mean ladybird size of your high predation sample is greater than the mean ladybird size of your low predation sample, then you have sufficient evidence to conclude that Harlequin ladybirds prefer to eat small two-spot ladybirds.\n",
    "\n",
    "How likely the observed difference in sample means is under the null hypothesis is called a *p*-value. \n",
    "\n",
    "This is what you are going to calculate now."
   ]
  },
  {
   "cell_type": "markdown",
   "id": "11b24e2b",
   "metadata": {},
   "source": [
    "## Task 2.1: Construct a statistical model of the null hypothesis"
   ]
  },
  {
   "cell_type": "markdown",
   "id": "f2df10f0",
   "metadata": {},
   "source": [
    "To calculate a *p*-value you first need to construct a **statistical model of the null hypothesis**. What this actually means is you will assume that ladybird sizes in the low and high predation populations have identical distributions. (See Notebook [4.2 - Comparing two population means](../Self-study%20Notebooks/4.2%20-%20Comparing%20two%20population%20means.ipynb#Create-a-statistical-model-of-the-sampling-process-assuming-the-null-hypothesis-were-true) for an explanation of a statistical model.)\n",
    "\n",
    "In your model, first let's assume that ladybird sizes are normally distributed. This is a reasonable assumption as sizes of most things in the natural world are normally distributed.\n",
    "\n",
    "Second, **you have to decide** what the mean ($\\mu$) and standard deviation ($\\sigma$) of this normal distribution will be. You should pick values that are close to the means and standard deviations of your samples. For example, you might set $\\mu$ equal to the average of your two sample means and $\\sigma$ to the average of your two sample standard deviations. The actual values you pick will not matter too much so don't spend too long on choosing values.\n",
    "\n",
    "---\n",
    "\n",
    "In the markdown cell below, state the mean ($\\mu$) and standard deviation ($\\sigma$) of the normal distribution of your statistical model."
   ]
  },
  {
   "cell_type": "markdown",
   "id": "e8991dc0",
   "metadata": {},
   "source": [
    "> We'll use the average values of the sample means and standard deviations for our mean and standard deviation of our statistical model.\n",
    "\n",
    "> mu = 4.8 mm\n",
    "\n",
    "> sigma = 0.74 mm"
   ]
  },
  {
   "cell_type": "markdown",
   "id": "0d45df0a",
   "metadata": {},
   "source": [
    "## Task 2.2: Simulate a pair of samples from the low and high predation populations under the null hypothesis and calculate the *d*-statistic"
   ]
  },
  {
   "cell_type": "markdown",
   "id": "3e1a2b41",
   "metadata": {},
   "source": [
    "You are now going to simulate the statistical model of the null hypothesis. To start with you will do this for a single pair of samples. This is to make sure your code is working correctly before doing the full simulation. One sample is simulated from the low predation population and the other sample from the high predation population. Even though we are assuming both populations have the same distribution, the simulated samples will be different due to the randomness of sampling. You will calculate the means of these two simulated samples and then calculate the difference in these means, i.e., you will calculate a simulated *d*-statistic. \n",
    "\n",
    "---\n",
    "\n",
    "Follow these steps to perform a single simulation of the statistical model of the null hypothesis: \n",
    "1. Write code to simulate randomly drawing a pair of samples, one each from the low and high predation populations. Remember, the sample sizes (i.e., the number of ladybirds measured) of these simulated samples must match those of your actual samples from the cemeteries. \n",
    "2. Print out the simulated ladybird sizes from both simulated samples.\n",
    "3. Calculate and print the mean ladybird sizes of both simulated samples.\n",
    "4. Calculate and print the *d*-statistic of this pair of simulated samples.\n",
    "\n",
    "You might find it helpful to copy, paste and adapt the code from Notebook [4.2 - Comparing two population means](../Self-study%20Notebooks/4.2%20-%20Comparing%20two%20population%20means.ipynb#simpair).\n",
    "\n",
    "<div class=\"alert alert-info\">\n",
    "\n",
    "Run the code several times to convince yourself that each time you run it you get different random samples with different sample means, resulting in different *d*-statistics.\n",
    "</div>"
   ]
  },
  {
   "cell_type": "code",
   "execution_count": 7,
   "id": "ee7b3a90",
   "metadata": {},
   "outputs": [
    {
     "name": "stdout",
     "output_type": "stream",
     "text": [
      "[4.29879029 5.43674805 4.8710111  2.84116077 5.41771372 3.73959491\n",
      " 4.20390863 5.77413132 4.03494613 4.26845443 5.14936331 3.33793618\n",
      " 4.40936186 5.36438969 5.35574203 4.99262828 6.46801758 5.89112527\n",
      " 3.62047577 4.55945114 5.02323197 4.0526977  4.2994294  6.08472957\n",
      " 4.01835331 4.59395322 4.494912   4.52417908 5.45596418 4.48818195\n",
      " 3.68527094 4.16945575 5.21702062 4.55827707 4.7633662  5.0786582\n",
      " 3.25258671 5.4499226  5.43284462 4.70356497 4.05256578 5.41616446\n",
      " 6.04042889 5.20853402 4.12013485 4.46306061 4.56399931 5.2117933\n",
      " 5.2852415  4.4768754  4.5074261  4.2951918  4.21957452 4.86133587\n",
      " 2.99368385 5.66723029 4.06030932 5.24107751 4.20977875 4.34704539\n",
      " 4.12316357 4.87706945 2.88370764 5.03809925 4.17966884]\n",
      "[5.14714578 5.81477434 4.09982696 4.25958632 6.13377746 5.376762\n",
      " 4.19692117 4.7353634  4.43787165 6.28009556 5.25724825 4.38984535\n",
      " 4.51743386 5.0120582  2.63438248 5.18682794 4.8336181  5.39924795\n",
      " 4.17413974 4.63182989 5.46255161 4.54295672 6.03023809 5.548971\n",
      " 4.40580334 4.41975845 6.1298717  5.37901905 4.65219457 4.86512341\n",
      " 4.77361881 5.53388806 5.71226584 4.72298603 4.13543137 4.21626805\n",
      " 4.38451942 5.552585   4.83154292 5.46894178 4.80346543 5.52236719\n",
      " 5.88908801 4.92623103 4.43068688 5.41956819 5.53072817 4.55564352\n",
      " 5.12791708]\n",
      "\n",
      "sample mean ladybird size from low predation site  = 4.64 mm\n",
      "sample mean ladybird size from high predation site = 4.97 mm\n",
      "\n",
      "difference in sample mean ladybird sizes, d-statistic = 4.97 - 4.64 = 0.33\n"
     ]
    }
   ],
   "source": [
    "# using your statistical model, simulate a pair of random samples from the low and high predation populations assuming the null hypothesis were true and calculate the d-statistic\n",
    "\n",
    "from numpy.random import normal\n",
    "\n",
    "# Sample sizes from low and high. Use the observed sample sizes to avoid hard-coding them.\n",
    "n = ladybirds.count()\n",
    "n_low = n['low']\n",
    "n_high = n['high']\n",
    "\n",
    "# Set the populations' parameters. As we are assuming that the null model is true, both populations have identical parameters.\n",
    "mu = 4.8\n",
    "sigma = 0.74\n",
    "\n",
    "# Sample ladybirds from low and store them in a list called sample_low\n",
    "sample_low = normal(mu, sigma, n_low)\n",
    "# Sample ladybirds from high and store them in a list called sample_high\n",
    "sample_high = normal(mu, sigma, n_high)\n",
    "\n",
    "# Print samples\n",
    "print(sample_low)\n",
    "print(sample_high)\n",
    "print()\n",
    "\n",
    "# Calculate sample means\n",
    "xbar_low = sample_low.mean()\n",
    "xbar_high = sample_high.mean()\n",
    "\n",
    "# Print sample means to 2dp\n",
    "print(f'sample mean ladybird size from low predation site  = {xbar_low:.2f} mm')\n",
    "print(f'sample mean ladybird size from high predation site = {xbar_high:.2f} mm')\n",
    "\n",
    "# Calculate and print the d-statistic\n",
    "d = xbar_high - xbar_low\n",
    "\n",
    "print() # blank line\n",
    "print(f'difference in sample mean ladybird sizes, d-statistic = {xbar_high:.2f} - {xbar_low:.2f} = {d:.2f}')"
   ]
  },
  {
   "cell_type": "markdown",
   "id": "e0187d66",
   "metadata": {},
   "source": [
    "## Task 2.3: Construct the sampling distribution of the *d*-statistic"
   ]
  },
  {
   "cell_type": "markdown",
   "id": "74a78841",
   "metadata": {},
   "source": [
    "Now construct and plot the sampling distribution of the *d*-statistic under the null hypothesis. Do this by simulating thousands of pairs of samples and calculating the *d*-statistic for each.\n",
    "\n",
    "To construct and plot the sampling distribution, it may be helpful to copy, paste and adapt the code from [4.2 - Comparing two population means](../Self-study%20Notebooks/4.2%20-%20Comparing%20two%20population%20means.ipynb#samplingdist)."
   ]
  },
  {
   "cell_type": "code",
   "execution_count": 9,
   "id": "a3fc7b4e",
   "metadata": {},
   "outputs": [
    {
     "data": {
      "image/png": "[encoded data removed]",
      "text/plain": [
       "<Figure size 360x360 with 1 Axes>"
      ]
     },
     "metadata": {
      "needs_background": "light"
     },
     "output_type": "display_data"
    }
   ],
   "source": [
    "# construct and plot the sampling distribution of the d-statistic\n",
    "\n",
    "import seaborn as sns\n",
    "from numpy.random import normal\n",
    "\n",
    "# Store the observed difference in sample mean beak depths in d_obs to avoid hard-coding data in the histogram\n",
    "xbar = ladybirds.mean()\n",
    "d_obs = xbar['high'] - xbar['low']\n",
    "\n",
    "# Sample sizes from low and high\n",
    "n = ladybirds.count()\n",
    "n_low = n['low']\n",
    "n_high = n['high']\n",
    "\n",
    "# Set the populations's parameters. As we are assuming that the null model were true, both populations have identical parameters.\n",
    "mu = 5.8\n",
    "sigma = 0.74\n",
    "\n",
    "# Set the number of samples to 100,000.\n",
    "number_of_samples = 100000\n",
    "\n",
    "# 100,000 random samples of ladybird sizes from the low population\n",
    "samples_low = normal(mu, sigma, (n_low, number_of_samples))\n",
    "# 100,000 random samples of ladybird sizes from the high population\n",
    "samples_high = normal(mu, sigma, (n_high, number_of_samples))\n",
    "\n",
    "# Calculate all sample means\n",
    "xbars_low = samples_low.mean(axis=0)\n",
    "xbars_high = samples_high.mean(axis=0)\n",
    "\n",
    "# Calculate the d-statistic for each pair of samples\n",
    "ds = xbars_high - xbars_low\n",
    "\n",
    "# Sampling distribution of the d-statistic\n",
    "g = sns.displot(ds, bins=50, stat='proportion')\n",
    "\n",
    "# Add some annotation\n",
    "g.ax.set_title('Sampling distribution of the $d$-statistic\\nassuming null hypothesis were true')\n",
    "g.ax.set_xlabel('$d$-statistic, difference in sample means (mm)')\n",
    "g.ax.axvline(0, color='yellow') # Add a yellow vertical line at d=0\n",
    "g.ax.axvline(d_obs, color='magenta') # Add a magenta vertical line at the observed value of d=d_obs\n",
    "g.ax.axvline(-d_obs, color='magenta') # Add a magenta vertical line at the observed value of d=-d_obs\n",
    "g.ax.annotate(f'{d_obs:.2f} mm', (d_obs, 0), (270, 55), color='magenta', textcoords='axes points', fontsize=12, arrowprops={'arrowstyle':'-|>', 'color':'magenta'}); # Add an arrow\n",
    "g.ax.annotate(f'$-${d_obs:.2f} mm', (-d_obs, 0), (15, 55), color='magenta', textcoords='axes points', fontsize=12, arrowprops={'arrowstyle':'-|>', 'color':'magenta'}); # Add an arrow"
   ]
  },
  {
   "cell_type": "markdown",
   "id": "ac249ba4",
   "metadata": {},
   "source": [
    "## Task 2.4: Is your observed *d*-statistic likely or not under the null hypothesis?"
   ]
  },
  {
   "cell_type": "markdown",
   "id": "1d744196",
   "metadata": {},
   "source": [
    "Think about what the sampling distribution of the *d*-statistic means. What it tells you is this. If the null hypothesis were true (i.e., average ladybird sizes are the same in the low and high predation cemeteries) and you kept taking samples from both populations and calculating the difference in their means (the *d*-statistic), the histogram of all those differences would be the sampling distribution you just plotted.\n",
    "\n",
    "If the null hypothesis were actually true, your observed *d*-statistic (the one you calculated from your data) would lie somewhere in this distribution.\n",
    "\n",
    "If your observed *d*-statistic lies far into the tail of the sampling distribution, then your *d*-statistic is unlikely if the null hypothesis were true (because that is what we are assuming when we construct the sampling distribution). Which, of course, suggests then that the null hypothesis is not true and you have sufficient evidence to reject it.\n",
    "\n",
    "On the other hand, if your *d*-statistic lies roughly in the middle of the sampling distribution, then your *d*-statistic is quite likely if the null hypothesis were true. Which means you have insufficient evidence to reject the null hypothesis.\n",
    "\n",
    "By eye-balling your constructed sampling distribution, do you think your observed *d*-statistic is likely or unlikely under the null hypothesis? \n",
    "\n",
    "Write your answer below with a justification."
   ]
  },
  {
   "cell_type": "markdown",
   "id": "27ea4e38",
   "metadata": {},
   "source": [
    "> The observed difference in sample means (0.35mm)  is far into the tail of the sampling distribution. This suggests that 0.35 is unlikely under the null hypothesis and we probably have sufficient evidence to reject the null hypothesis? "
   ]
  },
  {
   "cell_type": "markdown",
   "id": "2c8a844e",
   "metadata": {},
   "source": [
    "## Task 2.5: Calculate the *p*-value of your *d*-statistic"
   ]
  },
  {
   "cell_type": "markdown",
   "id": "1220007a",
   "metadata": {},
   "source": [
    "You want to put a number (a probability) to how likely your *d*-statistic is if the null hypothesis were true. This is called a *p*-value.\n",
    "\n",
    "Your *p*-value is the probability of obtaining a *d*-statistic as unusually high as what you observed if the null hypothesis were true. That's a bit of a mouthful. It is the area of the tails of the sampling distribution to the left and right of your *d*-statistic. \n",
    "\n",
    "Why do we calculate the area in both tails? Remember that our alternative hypothesis is the logical opposite of our null hypothesis. The alternative hypothesis says that there is a **difference** in the population means. But that difference can be either way: mean ladybird sizes in the low predation cemetery could be **smaller** than mean ladybird sizes in the high predation cemetery **OR** mean ladybird sizes in the low predation cemetery could be **larger** than mean ladybird sizes in the high predation cemetery. So we need to calculate the combined probability of both of these, hence we calculate the area in both tails. \n",
    "\n",
    "---\n",
    "\n",
    "Now calculate the *p*-value of your *d*-statistic. \n",
    "\n",
    "To calculate the *p*-value, it may be helpful to copy and paste the code from [4.2 - Comparing two population means](../Self-study%20Notebooks/4.2%20-%20Comparing%20two%20population%20means.ipynb#pvalue)."
   ]
  },
  {
   "cell_type": "code",
   "execution_count": 10,
   "id": "6e21a7eb",
   "metadata": {},
   "outputs": [
    {
     "name": "stdout",
     "output_type": "stream",
     "text": [
      "p-value = 0.013\n"
     ]
    }
   ],
   "source": [
    "# calculate and print the p-value of your observed d-statistic under the null hypothesis\n",
    "\n",
    "# Set a tally for the number of times the absolute value of the d-statistic is at least 0.35 mm\n",
    "count = 0\n",
    "\n",
    "# Loop through all simulated values of d\n",
    "for d in ds:\n",
    "    \n",
    "    # Increment tally if d is greater than 0.35 mm or less than -0.35 mm\n",
    "    if d < -d_obs or d > d_obs:\n",
    "        count += 1\n",
    "        \n",
    "# Calculate the p-value \n",
    "# (the number of samples in which the difference is at least 0.35 divided by the total number of samples)\n",
    "p_value = count / len(ds)\n",
    "\n",
    "# Print the p-value\n",
    "print(f'p-value = {p_value:.3f}')"
   ]
  },
  {
   "cell_type": "markdown",
   "id": "1c4dc3a1",
   "metadata": {},
   "source": [
    "<div class=\"alert alert-success\">\n",
    "\n",
    "# Part 3: Two-sample *t*-test in practice\n",
    "</div>"
   ]
  },
  {
   "cell_type": "markdown",
   "id": "1e7b4105",
   "metadata": {},
   "source": [
    "## Task 3.1: Perform a two-sample *t*-test"
   ]
  },
  {
   "cell_type": "markdown",
   "id": "5dcb71c1",
   "metadata": {},
   "source": [
    "The *d*-statistic is the simplest, and most intuitive, measure of the difference between mean ladybird sizes in the low and high predation cemeteries. This is why we have taken you through the process of simulating its sampling distribution to calculate a *p*-value. However, from a practical point-of-view the *d*-statistic is not that useful. Instead we use the *t*-statistic.\n",
    "\n",
    "The great thing about using the *t*-statistic is that we do not need to do any simulations to construct its sampling distribution to calculate a *p*-value. As we saw in the Self-study Notebooks, the sampling distribution of the *t*-statistic is already known; it has a mathematical formula that we can directly plug our data into to get a *p*-value. This means we can use statistical software to perform the statistical test for us and not have to go through the laborious process of coding it ourselves. \n",
    "\n",
    "---\n",
    "\n",
    "Now perform a two-sample *t*-test on your data using Python code. To do this, copy, paste and adapt the code from [4.4 - Two sample *t*-test in practice](../Self-study%20Notebooks/4.4%20-%20Two%20sample%20t-test%20in%20practice.ipynb)."
   ]
  },
  {
   "cell_type": "code",
   "execution_count": 12,
   "id": "efbc82b8",
   "metadata": {},
   "outputs": [
    {
     "name": "stdout",
     "output_type": "stream",
     "text": [
      "t-statistic = 2.49\n",
      "p-value = 0.014\n"
     ]
    }
   ],
   "source": [
    "# perform a two-sample t-test on your data\n",
    "\n",
    "from scipy.stats import ttest_ind # import the two sample t-test function\n",
    "\n",
    "# Perform the two sample t-test\n",
    "t, p = ttest_ind(ladybirds['high'], ladybirds['low'], nan_policy='omit')\n",
    "\n",
    "# Print the t-statistic to 2dp\n",
    "print(f't-statistic = {t:.2f}')\n",
    "\n",
    "# Print the p-value to 4dp\n",
    "print(f'p-value = {p:.3f}')"
   ]
  },
  {
   "cell_type": "markdown",
   "id": "ba689e87",
   "metadata": {},
   "source": [
    "## Task 3.2: Reject or not reject your null hypothesis"
   ]
  },
  {
   "cell_type": "markdown",
   "id": "334eff8f",
   "metadata": {},
   "source": [
    "At this point we could leave it there: We've stated our hypotheses, collected and analysed the data and calculated how likely our data are under the null hypothesis (i.e., the *p*-value). You could then leave it to other scientists to judge if your data support your biological hypothesis. \n",
    "\n",
    "But scientists, like everyone else, like clear-cut answers: Do your data support your hypothesis or not?\n",
    "\n",
    "Unfortunately there are rarely such clear-cut answers. But scientists have created an illusion of such. \n",
    "\n",
    "To create this illusion, we set a threshold value on our *p*-values. This threshold is a convention (i.e., has no scientific basis) and in the Biological and Medical sciences this threshold is 0.05. It even has a fancy name: **the 95% confidence level**, and given the fancy Greek letter $\\alpha$. This is how the illusion of a clear-cut answer works:\n",
    "\n",
    "If our *p*-value is below 0.05 then we **reject the null hypothesis**. And we say \"There is a **statistically significant** difference between mean ladybird sizes in low and high predation cemeteries.\"\n",
    "\n",
    "If our *p*-value is above 0.05 then we **fail to reject the null hypothesis**. And we say \"There is a **no statistically significant difference** between mean ladybird sizes in low and high predation cemeteries.\"\n",
    "\n",
    "What happens if your *p*-value is say 0.051? You've just missed the threshold. All that hard work collecting data and you end up with a boring, non-significant result that is unpublishable. This, of course, leads to scientists trying to find ways to make their *p*-values go below 0.05. This is quite easy to do: remove some data points, use other statistical tests, or even make data up (this does happen, although rarely). Much has been written lately in the scientific literature about why *p*-values promote poor scientific practices.\n",
    "\n",
    "However, all the scientific literature you will read in your studies, and in your later careers, will contain statistical analyses with *p*-values. This is why you need to understand how they are calculated and what they mean.\n",
    "\n",
    "---\n",
    "\n",
    "Based on your *p*-value and a confidence level of $\\alpha=$ 0.05. Do you reject or not reject your null hypothesis that mean ladybird sizes are the same in cemeteries with low and high predation rates? Write your answer below.\n",
    "\n",
    "Also see [4.4 - Two sample *t*-test in practice](../Self-study%20Notebooks/4.4%20-%20Two%20sample%20t-test%20in%20practice.ipynb#To-reject-or-not-reject-the-null-hypothesis) for more discussion about rejecting or not rejecting a null hypothesis."
   ]
  },
  {
   "cell_type": "markdown",
   "id": "6aa54cf7",
   "metadata": {},
   "source": [
    "> p=0.14 which is less than 0.05. We therefore reject the null hypothesis that the average size of ladybirds are the same in the low and high predation cemeteries."
   ]
  },
  {
   "cell_type": "markdown",
   "id": "158aaa33",
   "metadata": {},
   "source": [
    "## Task 3.3: Report the result of your test"
   ]
  },
  {
   "cell_type": "markdown",
   "id": "8b0a4906",
   "metadata": {},
   "source": [
    "Report the outcome of your test in words, as you might write in a report.\n",
    "\n",
    "See [4.4 - Two sample *t*-test in practice](../Self-study%20Notebooks/4.4%20-%20Two%20sample%20t-test%20in%20practice.ipynb#Reporting-the-result-of-the-test) for an example. "
   ]
  },
  {
   "cell_type": "markdown",
   "id": "e512d1bd",
   "metadata": {},
   "source": [
    "> Sizes of two-spot ladybirds were measured in two different cemeteries in Edinburgh that experience different levels of Harlequin ladybird predation.  A statistically significant difference was found of 0.35 mm between ladybird sizes of the two cemeteries (*t* = 2.49, *n*<sub>1</sub> = 65, *n*<sub>2</sub> = 49, *p* = 0.014). This evidence supports the hypothesis that the Harlequin ladybirds prefer to predate upon smaller rather than larger two-spot ladybirds."
   ]
  }
 ],
 "metadata": {
  "kernelspec": {
   "display_name": "Python 3 (ipykernel)",
   "language": "python",
   "name": "python3"
  },
  "language_info": {
   "codemirror_mode": {
    "name": "ipython",
    "version": 3
   },
   "file_extension": ".py",
   "mimetype": "text/x-python",
   "name": "python",
   "nbconvert_exporter": "python",
   "pygments_lexer": "ipython3",
   "version": "3.9.12"
  },
  "varInspector": {
   "cols": {
    "lenName": 16,
    "lenType": 16,
    "lenVar": 40
   },
   "kernels_config": {
    "python": {
     "delete_cmd_postfix": "",
     "delete_cmd_prefix": "del ",
     "library": "var_list.py",
     "varRefreshCmd": "print(var_dic_list())"
    },
    "r": {
     "delete_cmd_postfix": ") ",
     "delete_cmd_prefix": "rm(",
     "library": "var_list.r",
     "varRefreshCmd": "cat(var_dic_list()) "
    }
   },
   "types_to_exclude": [
    "module",
    "function",
    "builtin_function_or_method",
    "instance",
    "_Feature"
   ],
   "window_display": false
  }
 },
 "nbformat": 4,
 "nbformat_minor": 5
}
